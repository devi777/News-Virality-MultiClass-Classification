{
  "nbformat": 4,
  "nbformat_minor": 0,
  "metadata": {
    "kernelspec": {
      "display_name": "Python 3",
      "language": "python",
      "name": "python3"
    },
    "language_info": {
      "codemirror_mode": {
        "name": "ipython",
        "version": 3
      },
      "file_extension": ".py",
      "mimetype": "text/x-python",
      "name": "python",
      "nbconvert_exporter": "python",
      "pygments_lexer": "ipython3",
      "version": "3.7.7"
    },
    "colab": {
      "name": "2_FeatureExtraction.ipynb",
      "provenance": [],
      "include_colab_link": true
    }
  },
  "cells": [
    {
      "cell_type": "markdown",
      "metadata": {
        "id": "view-in-github",
        "colab_type": "text"
      },
      "source": [
        "<a href=\"https://colab.research.google.com/github/devi777/News-Virality-MultiClass-Classification/blob/master/2_FeatureExtraction.ipynb\" target=\"_parent\"><img src=\"https://colab.research.google.com/assets/colab-badge.svg\" alt=\"Open In Colab\"/></a>"
      ]
    },
    {
      "cell_type": "markdown",
      "metadata": {
        "id": "yV6Ekmulr9Wi",
        "colab_type": "text"
      },
      "source": [
        "In this notebook, we are going to pre-process the data, apply One-Hot Encoding to the target(y), separate the new columns, apply Dimensionality Reduction using Feature Extraction and apply Logistic Regression on each column, then combine the predictions, Reverse One-Hot Encode them, and then find their accuracies using Confusion Matrix."
      ]
    },
    {
      "cell_type": "markdown",
      "metadata": {
        "id": "hFRfnQQ0rGvU",
        "colab_type": "text"
      },
      "source": [
        "# Pre-processing Data"
      ]
    },
    {
      "cell_type": "code",
      "metadata": {
        "id": "qKFoKO8trGvV",
        "colab_type": "code",
        "colab": {}
      },
      "source": [
        "import numpy as np\n",
        "import matplotlib.pyplot as plt\n",
        "import pandas as pd\n",
        "import seaborn as sns"
      ],
      "execution_count": 0,
      "outputs": []
    },
    {
      "cell_type": "code",
      "metadata": {
        "id": "ea3eEhDfrGvf",
        "colab_type": "code",
        "colab": {}
      },
      "source": [
        "# Importing the dataset\n",
        "dataset = pd.read_csv('News3.csv')\n",
        "X = dataset.iloc[:, 1:-1].values\n",
        "y = dataset.iloc[:, -1].values"
      ],
      "execution_count": 0,
      "outputs": []
    },
    {
      "cell_type": "code",
      "metadata": {
        "id": "hsqF_Z_NrGvh",
        "colab_type": "code",
        "colab": {},
        "outputId": "7905feff-d279-406f-a334-2a77658c59f8"
      },
      "source": [
        "dataset"
      ],
      "execution_count": 0,
      "outputs": [
        {
          "output_type": "execute_result",
          "data": {
            "text/html": [
              "<div>\n",
              "<style scoped>\n",
              "    .dataframe tbody tr th:only-of-type {\n",
              "        vertical-align: middle;\n",
              "    }\n",
              "\n",
              "    .dataframe tbody tr th {\n",
              "        vertical-align: top;\n",
              "    }\n",
              "\n",
              "    .dataframe thead th {\n",
              "        text-align: right;\n",
              "    }\n",
              "</style>\n",
              "<table border=\"1\" class=\"dataframe\">\n",
              "  <thead>\n",
              "    <tr style=\"text-align: right;\">\n",
              "      <th></th>\n",
              "      <th>NAME</th>\n",
              "      <th>VPM</th>\n",
              "      <th>KOB</th>\n",
              "      <th>DPPV</th>\n",
              "      <th>DTS</th>\n",
              "      <th>BR</th>\n",
              "      <th>TP</th>\n",
              "      <th>TR</th>\n",
              "      <th>PB</th>\n",
              "      <th>PPD</th>\n",
              "      <th>AR</th>\n",
              "      <th>SEM</th>\n",
              "      <th>TFPM</th>\n",
              "      <th>DA</th>\n",
              "      <th>TARGET</th>\n",
              "    </tr>\n",
              "  </thead>\n",
              "  <tbody>\n",
              "    <tr>\n",
              "      <th>0</th>\n",
              "      <td>YahooNews</td>\n",
              "      <td>175000000</td>\n",
              "      <td>2.800</td>\n",
              "      <td>4.34</td>\n",
              "      <td>4.600</td>\n",
              "      <td>39.2</td>\n",
              "      <td>8.3</td>\n",
              "      <td>0.228022</td>\n",
              "      <td>1.0</td>\n",
              "      <td>25</td>\n",
              "      <td>11</td>\n",
              "      <td>395</td>\n",
              "      <td>1.10</td>\n",
              "      <td>95</td>\n",
              "      <td>0</td>\n",
              "    </tr>\n",
              "    <tr>\n",
              "      <th>1</th>\n",
              "      <td>HuffingtonPost</td>\n",
              "      <td>110000000</td>\n",
              "      <td>1.200</td>\n",
              "      <td>1.50</td>\n",
              "      <td>2.260</td>\n",
              "      <td>48.1</td>\n",
              "      <td>20.8</td>\n",
              "      <td>0.500000</td>\n",
              "      <td>2.0</td>\n",
              "      <td>29</td>\n",
              "      <td>11655</td>\n",
              "      <td>4500</td>\n",
              "      <td>11.40</td>\n",
              "      <td>93</td>\n",
              "      <td>1</td>\n",
              "    </tr>\n",
              "    <tr>\n",
              "      <th>2</th>\n",
              "      <td>CNN</td>\n",
              "      <td>95000000</td>\n",
              "      <td>1.100</td>\n",
              "      <td>2.28</td>\n",
              "      <td>4.230</td>\n",
              "      <td>52.3</td>\n",
              "      <td>29.1</td>\n",
              "      <td>0.659864</td>\n",
              "      <td>1.0</td>\n",
              "      <td>30</td>\n",
              "      <td>72</td>\n",
              "      <td>417</td>\n",
              "      <td>47.20</td>\n",
              "      <td>95</td>\n",
              "      <td>0</td>\n",
              "    </tr>\n",
              "    <tr>\n",
              "      <th>3</th>\n",
              "      <td>NewYorkTimes</td>\n",
              "      <td>70000000</td>\n",
              "      <td>1.700</td>\n",
              "      <td>2.50</td>\n",
              "      <td>3.150</td>\n",
              "      <td>60.6</td>\n",
              "      <td>41.9</td>\n",
              "      <td>0.945824</td>\n",
              "      <td>1.0</td>\n",
              "      <td>28</td>\n",
              "      <td>77</td>\n",
              "      <td>555</td>\n",
              "      <td>44.70</td>\n",
              "      <td>95</td>\n",
              "      <td>0</td>\n",
              "    </tr>\n",
              "    <tr>\n",
              "      <th>4</th>\n",
              "      <td>FoxNews</td>\n",
              "      <td>65000000</td>\n",
              "      <td>0.550</td>\n",
              "      <td>2.59</td>\n",
              "      <td>5.210</td>\n",
              "      <td>46.3</td>\n",
              "      <td>22.2</td>\n",
              "      <td>0.500000</td>\n",
              "      <td>2.0</td>\n",
              "      <td>30</td>\n",
              "      <td>227</td>\n",
              "      <td>15</td>\n",
              "      <td>18.50</td>\n",
              "      <td>95</td>\n",
              "      <td>1</td>\n",
              "    </tr>\n",
              "    <tr>\n",
              "      <th>5</th>\n",
              "      <td>NBCNews</td>\n",
              "      <td>63000000</td>\n",
              "      <td>0.460</td>\n",
              "      <td>1.37</td>\n",
              "      <td>2.260</td>\n",
              "      <td>74.3</td>\n",
              "      <td>46.6</td>\n",
              "      <td>1.290859</td>\n",
              "      <td>1.0</td>\n",
              "      <td>30</td>\n",
              "      <td>507</td>\n",
              "      <td>1000</td>\n",
              "      <td>7.50</td>\n",
              "      <td>92</td>\n",
              "      <td>1</td>\n",
              "    </tr>\n",
              "    <tr>\n",
              "      <th>6</th>\n",
              "      <td>MailOnline</td>\n",
              "      <td>53000000</td>\n",
              "      <td>0.710</td>\n",
              "      <td>2.04</td>\n",
              "      <td>4.350</td>\n",
              "      <td>59.1</td>\n",
              "      <td>32.0</td>\n",
              "      <td>0.631164</td>\n",
              "      <td>2.0</td>\n",
              "      <td>30</td>\n",
              "      <td>271</td>\n",
              "      <td>16</td>\n",
              "      <td>16.40</td>\n",
              "      <td>94</td>\n",
              "      <td>1</td>\n",
              "    </tr>\n",
              "    <tr>\n",
              "      <th>7</th>\n",
              "      <td>TheGuardian</td>\n",
              "      <td>42000000</td>\n",
              "      <td>1.400</td>\n",
              "      <td>2.64</td>\n",
              "      <td>2.683</td>\n",
              "      <td>62.7</td>\n",
              "      <td>52.7</td>\n",
              "      <td>1.203196</td>\n",
              "      <td>1.0</td>\n",
              "      <td>30</td>\n",
              "      <td>119</td>\n",
              "      <td>50</td>\n",
              "      <td>8.20</td>\n",
              "      <td>95</td>\n",
              "      <td>0</td>\n",
              "    </tr>\n",
              "    <tr>\n",
              "      <th>8</th>\n",
              "      <td>ABCNews</td>\n",
              "      <td>36000000</td>\n",
              "      <td>0.482</td>\n",
              "      <td>1.39</td>\n",
              "      <td>2.330</td>\n",
              "      <td>70.8</td>\n",
              "      <td>45.2</td>\n",
              "      <td>1.231608</td>\n",
              "      <td>1.0</td>\n",
              "      <td>25</td>\n",
              "      <td>1047</td>\n",
              "      <td>1230</td>\n",
              "      <td>0.05</td>\n",
              "      <td>93</td>\n",
              "      <td>0</td>\n",
              "    </tr>\n",
              "    <tr>\n",
              "      <th>9</th>\n",
              "      <td>TimesOfIndia</td>\n",
              "      <td>212000000</td>\n",
              "      <td>0.063</td>\n",
              "      <td>1.40</td>\n",
              "      <td>2.050</td>\n",
              "      <td>64.1</td>\n",
              "      <td>46.2</td>\n",
              "      <td>0.540351</td>\n",
              "      <td>0.5</td>\n",
              "      <td>26</td>\n",
              "      <td>18024</td>\n",
              "      <td>467</td>\n",
              "      <td>12.70</td>\n",
              "      <td>93</td>\n",
              "      <td>1</td>\n",
              "    </tr>\n",
              "    <tr>\n",
              "      <th>10</th>\n",
              "      <td>NDTVNews</td>\n",
              "      <td>50000000</td>\n",
              "      <td>0.610</td>\n",
              "      <td>2.36</td>\n",
              "      <td>3.980</td>\n",
              "      <td>56.5</td>\n",
              "      <td>43.3</td>\n",
              "      <td>0.714521</td>\n",
              "      <td>1.0</td>\n",
              "      <td>30</td>\n",
              "      <td>358</td>\n",
              "      <td>11</td>\n",
              "      <td>12.60</td>\n",
              "      <td>92</td>\n",
              "      <td>1</td>\n",
              "    </tr>\n",
              "    <tr>\n",
              "      <th>11</th>\n",
              "      <td>IndiaToday</td>\n",
              "      <td>17000000</td>\n",
              "      <td>0.300</td>\n",
              "      <td>1.59</td>\n",
              "      <td>2.380</td>\n",
              "      <td>74.6</td>\n",
              "      <td>78.2</td>\n",
              "      <td>1.486692</td>\n",
              "      <td>0.0</td>\n",
              "      <td>30</td>\n",
              "      <td>567</td>\n",
              "      <td>70</td>\n",
              "      <td>5.30</td>\n",
              "      <td>89</td>\n",
              "      <td>2</td>\n",
              "    </tr>\n",
              "    <tr>\n",
              "      <th>12</th>\n",
              "      <td>IndianExpress</td>\n",
              "      <td>18000000</td>\n",
              "      <td>0.319</td>\n",
              "      <td>2.34</td>\n",
              "      <td>3.530</td>\n",
              "      <td>62.1</td>\n",
              "      <td>41.3</td>\n",
              "      <td>0.645312</td>\n",
              "      <td>0.0</td>\n",
              "      <td>30</td>\n",
              "      <td>1100</td>\n",
              "      <td>7</td>\n",
              "      <td>3.50</td>\n",
              "      <td>91</td>\n",
              "      <td>2</td>\n",
              "    </tr>\n",
              "    <tr>\n",
              "      <th>13</th>\n",
              "      <td>TheHindu</td>\n",
              "      <td>65000000</td>\n",
              "      <td>0.253</td>\n",
              "      <td>1.91</td>\n",
              "      <td>2.750</td>\n",
              "      <td>65.8</td>\n",
              "      <td>64.4</td>\n",
              "      <td>1.047154</td>\n",
              "      <td>0.5</td>\n",
              "      <td>30</td>\n",
              "      <td>977</td>\n",
              "      <td>1</td>\n",
              "      <td>6.00</td>\n",
              "      <td>91</td>\n",
              "      <td>2</td>\n",
              "    </tr>\n",
              "  </tbody>\n",
              "</table>\n",
              "</div>"
            ],
            "text/plain": [
              "              NAME        VPM    KOB  DPPV    DTS    BR    TP        TR   PB  \\\n",
              "0        YahooNews  175000000  2.800  4.34  4.600  39.2   8.3  0.228022  1.0   \n",
              "1   HuffingtonPost  110000000  1.200  1.50  2.260  48.1  20.8  0.500000  2.0   \n",
              "2              CNN   95000000  1.100  2.28  4.230  52.3  29.1  0.659864  1.0   \n",
              "3     NewYorkTimes   70000000  1.700  2.50  3.150  60.6  41.9  0.945824  1.0   \n",
              "4          FoxNews   65000000  0.550  2.59  5.210  46.3  22.2  0.500000  2.0   \n",
              "5          NBCNews   63000000  0.460  1.37  2.260  74.3  46.6  1.290859  1.0   \n",
              "6       MailOnline   53000000  0.710  2.04  4.350  59.1  32.0  0.631164  2.0   \n",
              "7      TheGuardian   42000000  1.400  2.64  2.683  62.7  52.7  1.203196  1.0   \n",
              "8          ABCNews   36000000  0.482  1.39  2.330  70.8  45.2  1.231608  1.0   \n",
              "9     TimesOfIndia  212000000  0.063  1.40  2.050  64.1  46.2  0.540351  0.5   \n",
              "10        NDTVNews   50000000  0.610  2.36  3.980  56.5  43.3  0.714521  1.0   \n",
              "11      IndiaToday   17000000  0.300  1.59  2.380  74.6  78.2  1.486692  0.0   \n",
              "12   IndianExpress   18000000  0.319  2.34  3.530  62.1  41.3  0.645312  0.0   \n",
              "13        TheHindu   65000000  0.253  1.91  2.750  65.8  64.4  1.047154  0.5   \n",
              "\n",
              "    PPD     AR   SEM   TFPM  DA  TARGET  \n",
              "0    25     11   395   1.10  95       0  \n",
              "1    29  11655  4500  11.40  93       1  \n",
              "2    30     72   417  47.20  95       0  \n",
              "3    28     77   555  44.70  95       0  \n",
              "4    30    227    15  18.50  95       1  \n",
              "5    30    507  1000   7.50  92       1  \n",
              "6    30    271    16  16.40  94       1  \n",
              "7    30    119    50   8.20  95       0  \n",
              "8    25   1047  1230   0.05  93       0  \n",
              "9    26  18024   467  12.70  93       1  \n",
              "10   30    358    11  12.60  92       1  \n",
              "11   30    567    70   5.30  89       2  \n",
              "12   30   1100     7   3.50  91       2  \n",
              "13   30    977     1   6.00  91       2  "
            ]
          },
          "metadata": {
            "tags": []
          },
          "execution_count": 4
        }
      ]
    },
    {
      "cell_type": "code",
      "metadata": {
        "id": "ftFQGUYzrGvl",
        "colab_type": "code",
        "colab": {}
      },
      "source": [
        "from sklearn.preprocessing import LabelEncoder, OneHotEncoder\n",
        "onehotencoder = OneHotEncoder(categories = 'auto')\n",
        "y = np.reshape(y,(-1,1))\n",
        "y = onehotencoder.fit_transform(y).toarray()"
      ],
      "execution_count": 0,
      "outputs": []
    },
    {
      "cell_type": "code",
      "metadata": {
        "id": "rZDaWxzprGvt",
        "colab_type": "code",
        "colab": {}
      },
      "source": [
        "# Splitting the dataset into the Training set and Test set\n",
        "from sklearn.model_selection import train_test_split\n",
        "X_train, X_test, y_train, y_test = train_test_split(X, y, test_size = 4/13, random_state = 0)"
      ],
      "execution_count": 0,
      "outputs": []
    },
    {
      "cell_type": "code",
      "metadata": {
        "id": "O_Xm9rrTrGvv",
        "colab_type": "code",
        "colab": {}
      },
      "source": [
        "# Feature Scaling\n",
        "from sklearn.preprocessing import StandardScaler\n",
        "sc = StandardScaler()\n",
        "X_train = sc.fit_transform(X_train)\n",
        "X_test = sc.transform(X_test)"
      ],
      "execution_count": 0,
      "outputs": []
    },
    {
      "cell_type": "markdown",
      "metadata": {
        "id": "H0QmqyoqrGvz",
        "colab_type": "text"
      },
      "source": [
        "# Dimensionality Reduction using Feature Extraction"
      ]
    },
    {
      "cell_type": "markdown",
      "metadata": {
        "id": "SergbcMFrGvz",
        "colab_type": "text"
      },
      "source": [
        "## PCA"
      ]
    },
    {
      "cell_type": "markdown",
      "metadata": {
        "id": "23lurh90rGv0",
        "colab_type": "text"
      },
      "source": [
        "Here, we first take n_components as None to find out the variances of the 13 new extracted components from the training set"
      ]
    },
    {
      "cell_type": "code",
      "metadata": {
        "id": "OxcrsttGrGv1",
        "colab_type": "code",
        "colab": {}
      },
      "source": [
        "#From explains_variance , we get to know that the top 2 principal components\n",
        "# (or independent variables), matter\n",
        "from sklearn.decomposition import PCA\n",
        "pca = PCA(n_components = None)\n",
        "X_train = pca.fit_transform(X_train)\n",
        "X_test = pca.transform(X_test)\n",
        "explains_variance = pca.explained_variance_ratio_ "
      ],
      "execution_count": 0,
      "outputs": []
    },
    {
      "cell_type": "code",
      "metadata": {
        "id": "rIUPDd_YrGv5",
        "colab_type": "code",
        "colab": {},
        "outputId": "e8c390fb-6101-4322-eb07-b6875b59807d"
      },
      "source": [
        "print(explains_variance)"
      ],
      "execution_count": 0,
      "outputs": [
        {
          "output_type": "stream",
          "text": [
            "[4.18945118e-01 2.34143665e-01 1.50513797e-01 1.14142051e-01\n",
            " 4.86691736e-02 1.48826161e-02 1.29074493e-02 5.79613065e-03\n",
            " 3.64078025e-33]\n"
          ],
          "name": "stdout"
        }
      ]
    },
    {
      "cell_type": "markdown",
      "metadata": {
        "id": "lCShry4MrGv_",
        "colab_type": "text"
      },
      "source": [
        "Now, as we can see, the top 2 components consitute 64% of the variance. Let's now, use only the top 2 components."
      ]
    },
    {
      "cell_type": "code",
      "metadata": {
        "id": "ikXkKgwlrGv_",
        "colab_type": "code",
        "colab": {}
      },
      "source": [
        "pca = PCA(n_components = 2)\n",
        "X_train = pca.fit_transform(X_train)\n",
        "X_test = pca.transform(X_test)\n",
        "explains_variance = pca.explained_variance_ratio_ "
      ],
      "execution_count": 0,
      "outputs": []
    },
    {
      "cell_type": "code",
      "metadata": {
        "id": "QzxcAvmlrGwB",
        "colab_type": "code",
        "colab": {},
        "outputId": "84934490-7718-4b27-b253-cf72b7432925"
      },
      "source": [
        "print(explains_variance)"
      ],
      "execution_count": 0,
      "outputs": [
        {
          "output_type": "stream",
          "text": [
            "[0.41894512 0.23414367]\n"
          ],
          "name": "stdout"
        }
      ]
    },
    {
      "cell_type": "code",
      "metadata": {
        "id": "izYbsG5krGwE",
        "colab_type": "code",
        "colab": {},
        "outputId": "71ee8f50-ed0d-4c41-d1fd-91570ae013b6"
      },
      "source": [
        "X_train"
      ],
      "execution_count": 0,
      "outputs": [
        {
          "output_type": "execute_result",
          "data": {
            "text/plain": [
              "array([[-2.53217796, -0.6228316 ],\n",
              "       [-0.17849992,  2.8365194 ],\n",
              "       [ 1.52267615,  3.38623617],\n",
              "       [-0.74471535, -1.14942804],\n",
              "       [-0.340227  , -1.15971083],\n",
              "       [ 0.59153469, -0.70558818],\n",
              "       [ 5.56652352, -1.47032506],\n",
              "       [-2.5344777 ,  0.32209743],\n",
              "       [-1.35063642, -1.43696928]])"
            ]
          },
          "metadata": {
            "tags": []
          },
          "execution_count": 12
        }
      ]
    },
    {
      "cell_type": "markdown",
      "metadata": {
        "id": "8fj0Mq5irGwK",
        "colab_type": "text"
      },
      "source": [
        "So, in order to apply Multi class Linear Regression to each column of y, and then combine the 3 y_pred columns, compare values for each training example, an assign 1 to the one with maximum value, and 0 to others. Let's start again from train/test splitting."
      ]
    },
    {
      "cell_type": "code",
      "metadata": {
        "id": "xex_IUVXrGwP",
        "colab_type": "code",
        "colab": {}
      },
      "source": [
        "y_train0 = y_train[:,0]\n",
        "y_train1 = y_train[:,1]\n",
        "y_train2 = y_train[:,2]\n",
        "\n",
        "y_test0 = y_test[:,0]\n",
        "y_test1 = y_test[:,1]\n",
        "y_test2 = y_test[:,2]"
      ],
      "execution_count": 0,
      "outputs": []
    },
    {
      "cell_type": "code",
      "metadata": {
        "id": "46SaHu2IrGwR",
        "colab_type": "code",
        "colab": {},
        "outputId": "90f986b3-63bb-439d-c7ad-497b26441792"
      },
      "source": [
        "y_test"
      ],
      "execution_count": 0,
      "outputs": [
        {
          "output_type": "execute_result",
          "data": {
            "text/plain": [
              "array([[1., 0., 0.],\n",
              "       [0., 1., 0.],\n",
              "       [0., 1., 0.],\n",
              "       [0., 0., 1.],\n",
              "       [1., 0., 0.]])"
            ]
          },
          "metadata": {
            "tags": []
          },
          "execution_count": 14
        }
      ]
    },
    {
      "cell_type": "code",
      "metadata": {
        "id": "nnpP61APrGwU",
        "colab_type": "code",
        "colab": {},
        "outputId": "4f782d2c-f2fa-4c2c-d1aa-5fa1707bfbc3"
      },
      "source": [
        "print(y_train,y_train0,y_train1,y_train2)"
      ],
      "execution_count": 0,
      "outputs": [
        {
          "output_type": "stream",
          "text": [
            "[[0. 0. 1.]\n",
            " [0. 1. 0.]\n",
            " [0. 1. 0.]\n",
            " [1. 0. 0.]\n",
            " [0. 1. 0.]\n",
            " [1. 0. 0.]\n",
            " [1. 0. 0.]\n",
            " [0. 1. 0.]\n",
            " [0. 0. 1.]] [0. 0. 0. 1. 0. 1. 1. 0. 0.] [0. 1. 1. 0. 1. 0. 0. 1. 0.] [1. 0. 0. 0. 0. 0. 0. 0. 1.]\n"
          ],
          "name": "stdout"
        }
      ]
    },
    {
      "cell_type": "markdown",
      "metadata": {
        "id": "WY7RQWGprGwW",
        "colab_type": "text"
      },
      "source": [
        "Now, let's apply Logistic Regression to each set."
      ]
    },
    {
      "cell_type": "markdown",
      "metadata": {
        "id": "N6Bz3W-SrGwW",
        "colab_type": "text"
      },
      "source": [
        "###  Analyzing Data using Logistic Regression on Training Set 1 "
      ]
    },
    {
      "cell_type": "code",
      "metadata": {
        "id": "E2gD985IrGwY",
        "colab_type": "code",
        "colab": {},
        "outputId": "de976612-62d0-431c-b9ae-e39361c6d842"
      },
      "source": [
        "# Fitting Logistic Regression to the Training set\n",
        "from sklearn.linear_model import LogisticRegression\n",
        "classifier0 = LogisticRegression(random_state = 0)\n",
        "classifier0.fit(X_train, y_train0)"
      ],
      "execution_count": 0,
      "outputs": [
        {
          "output_type": "execute_result",
          "data": {
            "text/plain": [
              "LogisticRegression(C=1.0, class_weight=None, dual=False, fit_intercept=True,\n",
              "                   intercept_scaling=1, l1_ratio=None, max_iter=100,\n",
              "                   multi_class='auto', n_jobs=None, penalty='l2',\n",
              "                   random_state=0, solver='lbfgs', tol=0.0001, verbose=0,\n",
              "                   warm_start=False)"
            ]
          },
          "metadata": {
            "tags": []
          },
          "execution_count": 16
        }
      ]
    },
    {
      "cell_type": "code",
      "metadata": {
        "id": "xG2soUaIrGwg",
        "colab_type": "code",
        "colab": {}
      },
      "source": [
        "# Predicting the Test set results\n",
        "y_pred0 = classifier0.predict(X_test)"
      ],
      "execution_count": 0,
      "outputs": []
    },
    {
      "cell_type": "code",
      "metadata": {
        "id": "38tVmEYDrGwi",
        "colab_type": "code",
        "colab": {},
        "outputId": "51f00092-84b4-4706-a06a-9c5c53d6ee04"
      },
      "source": [
        "# if y_pred0 = (y_pred0 > 0.5), then the accuracy would have been..\n",
        "print('Test accuracy {:.2f}%'.format(classifier0.score(X_test,y_test0)*100))"
      ],
      "execution_count": 0,
      "outputs": [
        {
          "output_type": "stream",
          "text": [
            "Test accuracy 40.00%\n"
          ],
          "name": "stdout"
        }
      ]
    },
    {
      "cell_type": "markdown",
      "metadata": {
        "id": "cMdusvxUrGwk",
        "colab_type": "text"
      },
      "source": [
        "###  Analyzing Data using  Logistic Regression on Training Set 2"
      ]
    },
    {
      "cell_type": "code",
      "metadata": {
        "id": "RjwfK5DSrGwl",
        "colab_type": "code",
        "colab": {},
        "outputId": "a357723d-bf07-442e-f869-fce24df02876"
      },
      "source": [
        "# Fitting Logistic Regression to the Training set\n",
        "from sklearn.linear_model import LogisticRegression\n",
        "classifier1 = LogisticRegression(random_state = 0)\n",
        "classifier1.fit(X_train, y_train1)"
      ],
      "execution_count": 0,
      "outputs": [
        {
          "output_type": "execute_result",
          "data": {
            "text/plain": [
              "LogisticRegression(C=1.0, class_weight=None, dual=False, fit_intercept=True,\n",
              "                   intercept_scaling=1, l1_ratio=None, max_iter=100,\n",
              "                   multi_class='auto', n_jobs=None, penalty='l2',\n",
              "                   random_state=0, solver='lbfgs', tol=0.0001, verbose=0,\n",
              "                   warm_start=False)"
            ]
          },
          "metadata": {
            "tags": []
          },
          "execution_count": 19
        }
      ]
    },
    {
      "cell_type": "code",
      "metadata": {
        "id": "PIb9pwfOrGwn",
        "colab_type": "code",
        "colab": {}
      },
      "source": [
        "# Predicting the Test set results\n",
        "y_pred1 = classifier1.predict(X_test)"
      ],
      "execution_count": 0,
      "outputs": []
    },
    {
      "cell_type": "code",
      "metadata": {
        "id": "NcJ4rf3qrGwp",
        "colab_type": "code",
        "colab": {},
        "outputId": "92acd32c-68f3-4140-bcf1-3250e033be44"
      },
      "source": [
        "# if y_pred1 = (y_pred1 > 0.5), then the accuracy would have been..\n",
        "print('Test accuracy {:.2f}%'.format(classifier1.score(X_test,y_test1)*100))"
      ],
      "execution_count": 0,
      "outputs": [
        {
          "output_type": "stream",
          "text": [
            "Test accuracy 40.00%\n"
          ],
          "name": "stdout"
        }
      ]
    },
    {
      "cell_type": "markdown",
      "metadata": {
        "id": "idDFdFHcrGwt",
        "colab_type": "text"
      },
      "source": [
        "### Analyzing Data using Logistic Regression on Training Set 3 "
      ]
    },
    {
      "cell_type": "code",
      "metadata": {
        "id": "ekYld8DCrGwt",
        "colab_type": "code",
        "colab": {},
        "outputId": "fd6e645d-124a-4e9e-f810-4d84eec4c93b"
      },
      "source": [
        "# Fitting Logistic Regression to the Training set\n",
        "from sklearn.linear_model import LogisticRegression\n",
        "classifier2 = LogisticRegression(random_state = 0)\n",
        "classifier2.fit(X_train, y_train2)"
      ],
      "execution_count": 0,
      "outputs": [
        {
          "output_type": "execute_result",
          "data": {
            "text/plain": [
              "LogisticRegression(C=1.0, class_weight=None, dual=False, fit_intercept=True,\n",
              "                   intercept_scaling=1, l1_ratio=None, max_iter=100,\n",
              "                   multi_class='auto', n_jobs=None, penalty='l2',\n",
              "                   random_state=0, solver='lbfgs', tol=0.0001, verbose=0,\n",
              "                   warm_start=False)"
            ]
          },
          "metadata": {
            "tags": []
          },
          "execution_count": 22
        }
      ]
    },
    {
      "cell_type": "code",
      "metadata": {
        "id": "mlWtSN9erGwv",
        "colab_type": "code",
        "colab": {}
      },
      "source": [
        "# Predicting the Test set results\n",
        "y_pred2 = classifier2.predict(X_test)"
      ],
      "execution_count": 0,
      "outputs": []
    },
    {
      "cell_type": "code",
      "metadata": {
        "id": "JrRj2a_rrGwx",
        "colab_type": "code",
        "colab": {},
        "outputId": "499ae544-2f2d-4bc8-efb8-2d98d520f6f2"
      },
      "source": [
        "# if y_pred2 = (y_pred2 > 0.5), then the accuracy would have been..\n",
        "print('Test accuracy {:.2f}%'.format(classifier2.score(X_test,y_test2)*100))"
      ],
      "execution_count": 0,
      "outputs": [
        {
          "output_type": "stream",
          "text": [
            "Test accuracy 100.00%\n"
          ],
          "name": "stdout"
        }
      ]
    },
    {
      "cell_type": "markdown",
      "metadata": {
        "id": "SGArXs4frGw2",
        "colab_type": "text"
      },
      "source": [
        "### Combining and Reverse One-Hot Encoding the predictions"
      ]
    },
    {
      "cell_type": "markdown",
      "metadata": {
        "id": "sHssy-VFrGw3",
        "colab_type": "text"
      },
      "source": [
        "So, what I am here going to do is.. combine all the (y_pred) predicted values and actual values (y_test) that I did for the high, low, and medium categories separately into a single numpy array y_pred, and then "
      ]
    },
    {
      "cell_type": "code",
      "metadata": {
        "id": "LX4lULUIrGw3",
        "colab_type": "code",
        "colab": {}
      },
      "source": [
        "# y_pred = np.array([y_pred0.astype(int), y_pred1.astype(int), y_pred2.astype(int)])\n",
        "y_pred = np.array([y_pred0, y_pred1, y_pred2])"
      ],
      "execution_count": 0,
      "outputs": []
    },
    {
      "cell_type": "code",
      "metadata": {
        "id": "nUKxVzYprGw5",
        "colab_type": "code",
        "colab": {},
        "outputId": "c6010beb-d314-4310-c5a7-7963607c2787"
      },
      "source": [
        "y_pred"
      ],
      "execution_count": 0,
      "outputs": [
        {
          "output_type": "execute_result",
          "data": {
            "text/plain": [
              "array([[0., 1., 1., 0., 1.],\n",
              "       [1., 0., 0., 0., 0.],\n",
              "       [0., 0., 0., 1., 0.]])"
            ]
          },
          "metadata": {
            "tags": []
          },
          "execution_count": 26
        }
      ]
    },
    {
      "cell_type": "code",
      "metadata": {
        "id": "ZIinQ8pUrGxA",
        "colab_type": "code",
        "colab": {}
      },
      "source": [
        "#Tranposing the y_pred so that it's shape remains same to that of y_test\n",
        "y_pred = y_pred.transpose()"
      ],
      "execution_count": 0,
      "outputs": []
    },
    {
      "cell_type": "code",
      "metadata": {
        "id": "8smtQ_-HrGxC",
        "colab_type": "code",
        "colab": {},
        "outputId": "3da54a3e-1e4e-482c-9290-62ae2778b685"
      },
      "source": [
        "y_pred"
      ],
      "execution_count": 0,
      "outputs": [
        {
          "output_type": "execute_result",
          "data": {
            "text/plain": [
              "array([[0., 1., 0.],\n",
              "       [1., 0., 0.],\n",
              "       [1., 0., 0.],\n",
              "       [0., 0., 1.],\n",
              "       [1., 0., 0.]])"
            ]
          },
          "metadata": {
            "tags": []
          },
          "execution_count": 28
        }
      ]
    },
    {
      "cell_type": "code",
      "metadata": {
        "id": "ZFDqhq0orGxH",
        "colab_type": "code",
        "colab": {},
        "outputId": "f3e372f7-e444-47d9-80b9-1bb11d8fbd6f"
      },
      "source": [
        "#Printing a multilabel confusion matrix to check the results\n",
        "import sklearn.metrics as skm\n",
        "cm = skm.multilabel_confusion_matrix(y_test, y_pred)\n",
        "print(cm)\n",
        "print( skm.classification_report(y_test,y_pred))"
      ],
      "execution_count": 0,
      "outputs": [
        {
          "output_type": "stream",
          "text": [
            "[[[1 2]\n",
            "  [1 1]]\n",
            "\n",
            " [[2 1]\n",
            "  [2 0]]\n",
            "\n",
            " [[4 0]\n",
            "  [0 1]]]\n",
            "              precision    recall  f1-score   support\n",
            "\n",
            "           0       0.33      0.50      0.40         2\n",
            "           1       0.00      0.00      0.00         2\n",
            "           2       1.00      1.00      1.00         1\n",
            "\n",
            "   micro avg       0.40      0.40      0.40         5\n",
            "   macro avg       0.44      0.50      0.47         5\n",
            "weighted avg       0.33      0.40      0.36         5\n",
            " samples avg       0.40      0.40      0.40         5\n",
            "\n"
          ],
          "name": "stdout"
        }
      ]
    },
    {
      "cell_type": "code",
      "metadata": {
        "id": "7mNd_iEPrGxJ",
        "colab_type": "code",
        "colab": {},
        "outputId": "372b1dea-ed33-4b40-8623-66cc8a622aaf"
      },
      "source": [
        "y_pred1"
      ],
      "execution_count": 0,
      "outputs": [
        {
          "output_type": "execute_result",
          "data": {
            "text/plain": [
              "array([1., 0., 0., 0., 0.])"
            ]
          },
          "metadata": {
            "tags": []
          },
          "execution_count": 30
        }
      ]
    },
    {
      "cell_type": "code",
      "metadata": {
        "id": "3H4fO_nqrGxP",
        "colab_type": "code",
        "colab": {},
        "outputId": "0c776714-119b-4fe5-f062-e7c9031e3070"
      },
      "source": [
        "# Converting the y_pred numpy array to list , for convenience\n",
        "y_pred_list = y_pred.tolist()\n",
        "print(y_pred_list)"
      ],
      "execution_count": 0,
      "outputs": [
        {
          "output_type": "stream",
          "text": [
            "[[0.0, 1.0, 0.0], [1.0, 0.0, 0.0], [1.0, 0.0, 0.0], [0.0, 0.0, 1.0], [1.0, 0.0, 0.0]]\n"
          ],
          "name": "stdout"
        }
      ]
    },
    {
      "cell_type": "code",
      "metadata": {
        "id": "QNGx_3torGxS",
        "colab_type": "code",
        "colab": {}
      },
      "source": [
        "# Creating a categorised array with zeroes by equating it with the the newly created list \n",
        "# And initalizing it to the index which has value 1.0  \n",
        "y_pred_categorised = np.zeros(np.array(y_pred_list).shape[0])\n",
        "for i in range(len(y_pred_list)):\n",
        "    for j in range(len(y_pred_list[i])):\n",
        "        if y_pred[i][j] == 1.0:\n",
        "            y_pred_categorised[i] = j "
      ],
      "execution_count": 0,
      "outputs": []
    },
    {
      "cell_type": "code",
      "metadata": {
        "id": "qE7QcEYLrGxV",
        "colab_type": "code",
        "colab": {},
        "outputId": "14c636f2-ed22-4c70-b994-2e0b98ffda6c"
      },
      "source": [
        "y_pred_categorised"
      ],
      "execution_count": 0,
      "outputs": [
        {
          "output_type": "execute_result",
          "data": {
            "text/plain": [
              "array([1., 0., 0., 2., 0.])"
            ]
          },
          "metadata": {
            "tags": []
          },
          "execution_count": 33
        }
      ]
    },
    {
      "cell_type": "code",
      "metadata": {
        "id": "Pz9_K1TKrGxX",
        "colab_type": "code",
        "colab": {},
        "outputId": "21a29316-9b35-49b1-caa8-9bca3b701379"
      },
      "source": [
        "# Same process for y_test\n",
        "y_test_list = y_test.tolist()\n",
        "print(y_test_list)"
      ],
      "execution_count": 0,
      "outputs": [
        {
          "output_type": "stream",
          "text": [
            "[[1.0, 0.0, 0.0], [0.0, 1.0, 0.0], [0.0, 1.0, 0.0], [0.0, 0.0, 1.0], [1.0, 0.0, 0.0]]\n"
          ],
          "name": "stdout"
        }
      ]
    },
    {
      "cell_type": "code",
      "metadata": {
        "id": "xmEsxQNmrGxZ",
        "colab_type": "code",
        "colab": {}
      },
      "source": [
        "y_test_categorised = np.zeros(np.array(y_test_list).shape[0])\n",
        "for i in range(len(y_test_list)):\n",
        "    for j in range(len(y_test_list[i])):\n",
        "        if y_pred[i][j] == 1.0:\n",
        "            y_test_categorised[i] = j "
      ],
      "execution_count": 0,
      "outputs": []
    },
    {
      "cell_type": "code",
      "metadata": {
        "id": "AIzVXmwsrGxf",
        "colab_type": "code",
        "colab": {},
        "outputId": "f71f1e6c-fd5d-4bc0-f041-ddca4e4bc03b"
      },
      "source": [
        "y_test_categorised"
      ],
      "execution_count": 0,
      "outputs": [
        {
          "output_type": "execute_result",
          "data": {
            "text/plain": [
              "array([1., 0., 0., 2., 0.])"
            ]
          },
          "metadata": {
            "tags": []
          },
          "execution_count": 36
        }
      ]
    },
    {
      "cell_type": "code",
      "metadata": {
        "id": "G75iY7yrrGxh",
        "colab_type": "code",
        "colab": {},
        "outputId": "ed1f2078-9c9a-4fe1-eef1-e17a4cca99ea"
      },
      "source": [
        "y_test"
      ],
      "execution_count": 0,
      "outputs": [
        {
          "output_type": "execute_result",
          "data": {
            "text/plain": [
              "array([[1., 0., 0.],\n",
              "       [0., 1., 0.],\n",
              "       [0., 1., 0.],\n",
              "       [0., 0., 1.],\n",
              "       [1., 0., 0.]])"
            ]
          },
          "metadata": {
            "tags": []
          },
          "execution_count": 37
        }
      ]
    },
    {
      "cell_type": "code",
      "metadata": {
        "id": "mfBfNE4srGxj",
        "colab_type": "code",
        "colab": {},
        "outputId": "124def06-377c-4253-e12a-1938872c800f"
      },
      "source": [
        "# Making the Confusion Matrix\n",
        "from sklearn.metrics import confusion_matrix\n",
        "cm = confusion_matrix(y_test_categorised,y_pred_categorised)\n",
        "print(cm)"
      ],
      "execution_count": 0,
      "outputs": [
        {
          "output_type": "stream",
          "text": [
            "[[3 0 0]\n",
            " [0 1 0]\n",
            " [0 0 1]]\n"
          ],
          "name": "stdout"
        }
      ]
    },
    {
      "cell_type": "code",
      "metadata": {
        "id": "d9jBBK1trGxo",
        "colab_type": "code",
        "colab": {},
        "outputId": "5eb1efdc-762a-4214-becf-01e9082b54e1"
      },
      "source": [
        "print(\"Accuracy:\",str(round((3+1+1)/(5)*100,2)), \"%\")"
      ],
      "execution_count": 0,
      "outputs": [
        {
          "output_type": "stream",
          "text": [
            "Accuracy: 100.0 %\n"
          ],
          "name": "stdout"
        }
      ]
    },
    {
      "cell_type": "markdown",
      "metadata": {
        "id": "PbJ_i3WprGxv",
        "colab_type": "text"
      },
      "source": [
        "Wow, we got a 100% accuracy on our model. So to summarize, we applied Dimensionality Reduction using Feature Extraction using PCA, and then applying Logistic Regression to each category separately, and then Reverse One Hot Encoded the predicted and actual values to print the confusion matrix and check our accuracy. Let's try to plot them as well :)"
      ]
    },
    {
      "cell_type": "markdown",
      "metadata": {
        "id": "u3pBugctrGxw",
        "colab_type": "text"
      },
      "source": [
        "### Data Visualization "
      ]
    },
    {
      "cell_type": "code",
      "metadata": {
        "scrolled": false,
        "id": "6UMbLK7VrGxx",
        "colab_type": "code",
        "colab": {},
        "outputId": "d99689bd-2aa1-4470-d80e-30dec1fb7a7b"
      },
      "source": [
        "# Visualising the Training set results\n",
        "from matplotlib.colors import ListedColormap\n",
        "X_set, y_set0 = X_train, y_train0\n",
        "y_set1, y_set2 = y_train1, y_train2\n",
        "X1, X2 = np.meshgrid(np.arange(start = X_set[:, 0].min() - 1, stop = X_set[:, 0].max() + 1, step = 0.01),\n",
        "                     np.arange(start = X_set[:, 1].min() - 1, stop = X_set[:, 1].max() + 1, step = 0.01))\n",
        "plt.contourf(X1, X2, classifier0.predict(np.array([X1.ravel(), X2.ravel()]).T).reshape(X1.shape),\n",
        "             alpha = 0.75, cmap = ListedColormap(('red', 'green','blue')))\n",
        "plt.contourf(X1, X2, classifier1.predict(np.array([X1.ravel(), X2.ravel()]).T).reshape(X1.shape),\n",
        "             alpha = 0.75, cmap = ListedColormap(('red', 'green','blue')))\n",
        "plt.contourf(X1, X2, classifier2.predict(np.array([X1.ravel(), X2.ravel()]).T).reshape(X1.shape),\n",
        "             alpha = 0.75, cmap = ListedColormap(('red', 'green','blue')))\n",
        "plt.xlim(X1.min(), X1.max())\n",
        "plt.ylim(X2.min(), X2.max())\n",
        "for i, j in enumerate(np.unique(y_set)):\n",
        "    plt.scatter(X_set[y_set0 == j, 0], X_set[y_set0 == j, 1],\n",
        "                c = ListedColormap(('red', 'green','blue'))(i), label = j)\n",
        "    plt.scatter(X_set[y_set1 == j, 0], X_set[y_set1 == j, 1],\n",
        "                c = ListedColormap(('red', 'green','blue'))(i), label = j)\n",
        "    plt.scatter(X_set[y_set2 == j, 0], X_set[y_set2 == j, 1],\n",
        "                c = ListedColormap(('red', 'green','blue'))(i), label = j)\n",
        "plt.title('Logistic Regression (Training set)')\n",
        "plt.xlabel('PC1')\n",
        "plt.ylabel('PC2')\n",
        "plt.legend()\n",
        "plt.show()"
      ],
      "execution_count": 0,
      "outputs": [
        {
          "output_type": "stream",
          "text": [
            "'c' argument looks like a single numeric RGB or RGBA sequence, which should be avoided as value-mapping will have precedence in case its length matches with 'x' & 'y'.  Please use a 2-D array with a single row if you really want to specify the same RGB or RGBA value for all points.\n",
            "'c' argument looks like a single numeric RGB or RGBA sequence, which should be avoided as value-mapping will have precedence in case its length matches with 'x' & 'y'.  Please use a 2-D array with a single row if you really want to specify the same RGB or RGBA value for all points.\n",
            "'c' argument looks like a single numeric RGB or RGBA sequence, which should be avoided as value-mapping will have precedence in case its length matches with 'x' & 'y'.  Please use a 2-D array with a single row if you really want to specify the same RGB or RGBA value for all points.\n",
            "'c' argument looks like a single numeric RGB or RGBA sequence, which should be avoided as value-mapping will have precedence in case its length matches with 'x' & 'y'.  Please use a 2-D array with a single row if you really want to specify the same RGB or RGBA value for all points.\n",
            "'c' argument looks like a single numeric RGB or RGBA sequence, which should be avoided as value-mapping will have precedence in case its length matches with 'x' & 'y'.  Please use a 2-D array with a single row if you really want to specify the same RGB or RGBA value for all points.\n"
          ],
          "name": "stderr"
        },
        {
          "output_type": "display_data",
          "data": {
            "image/png": "[encoded data removed]",
            "text/plain": [
              "<Figure size 432x288 with 1 Axes>"
            ]
          },
          "metadata": {
            "tags": [],
            "needs_background": "light"
          }
        }
      ]
    },
    {
      "cell_type": "code",
      "metadata": {
        "id": "sJR3cBxurGx0",
        "colab_type": "code",
        "colab": {},
        "outputId": "43b869f9-f588-4979-f4c3-332830eb486c"
      },
      "source": [
        "# Visualising the Training set results\n",
        "from matplotlib.colors import ListedColormap\n",
        "X_set, y_set0 = X_test, y_test0\n",
        "y_set1, y_set2 = y_test1, y_test2\n",
        "X1, X2 = np.meshgrid(np.arange(start = X_set[:, 0].min() - 1, stop = X_set[:, 0].max() + 1, step = 0.01),\n",
        "                     np.arange(start = X_set[:, 1].min() - 1, stop = X_set[:, 1].max() + 1, step = 0.01))\n",
        "plt.contourf(X1, X2, classifier0.predict(np.array([X1.ravel(), X2.ravel()]).T).reshape(X1.shape),\n",
        "             alpha = 0.75, cmap = ListedColormap(('red', 'green','blue')))\n",
        "plt.contourf(X1, X2, classifier1.predict(np.array([X1.ravel(), X2.ravel()]).T).reshape(X1.shape),\n",
        "             alpha = 0.75, cmap = ListedColormap(('red', 'green','blue')))\n",
        "plt.contourf(X1, X2, classifier2.predict(np.array([X1.ravel(), X2.ravel()]).T).reshape(X1.shape),\n",
        "             alpha = 0.75, cmap = ListedColormap(('red', 'green','blue')))\n",
        "plt.xlim(X1.min(), X1.max())\n",
        "plt.ylim(X2.min(), X2.max())\n",
        "for i, j in enumerate(np.unique(y_set)):\n",
        "    plt.scatter(X_set[y_set0 == j, 0], X_set[y_set0 == j, 1],\n",
        "                c = ListedColormap(('red', 'green','blue'))(i), label = j)\n",
        "    plt.scatter(X_set[y_set1 == j, 0], X_set[y_set1 == j, 1],\n",
        "                c = ListedColormap(('red', 'green','blue'))(i), label = j)\n",
        "    plt.scatter(X_set[y_set2 == j, 0], X_set[y_set2 == j, 1],\n",
        "                c = ListedColormap(('red', 'green','blue'))(i), label = j)\n",
        "plt.title('Logistic Regression (Test set)')\n",
        "plt.xlabel('PC1')\n",
        "plt.ylabel('PC2')\n",
        "plt.legend()\n",
        "plt.show()"
      ],
      "execution_count": 0,
      "outputs": [
        {
          "output_type": "stream",
          "text": [
            "'c' argument looks like a single numeric RGB or RGBA sequence, which should be avoided as value-mapping will have precedence in case its length matches with 'x' & 'y'.  Please use a 2-D array with a single row if you really want to specify the same RGB or RGBA value for all points.\n",
            "'c' argument looks like a single numeric RGB or RGBA sequence, which should be avoided as value-mapping will have precedence in case its length matches with 'x' & 'y'.  Please use a 2-D array with a single row if you really want to specify the same RGB or RGBA value for all points.\n",
            "'c' argument looks like a single numeric RGB or RGBA sequence, which should be avoided as value-mapping will have precedence in case its length matches with 'x' & 'y'.  Please use a 2-D array with a single row if you really want to specify the same RGB or RGBA value for all points.\n",
            "'c' argument looks like a single numeric RGB or RGBA sequence, which should be avoided as value-mapping will have precedence in case its length matches with 'x' & 'y'.  Please use a 2-D array with a single row if you really want to specify the same RGB or RGBA value for all points.\n",
            "'c' argument looks like a single numeric RGB or RGBA sequence, which should be avoided as value-mapping will have precedence in case its length matches with 'x' & 'y'.  Please use a 2-D array with a single row if you really want to specify the same RGB or RGBA value for all points.\n"
          ],
          "name": "stderr"
        },
        {
          "output_type": "display_data",
          "data": {
            "image/png": "[encoded data removed]",
            "text/plain": [
              "<Figure size 432x288 with 1 Axes>"
            ]
          },
          "metadata": {
            "tags": [],
            "needs_background": "light"
          }
        }
      ]
    },
    {
      "cell_type": "markdown",
      "metadata": {
        "id": "OghQ5Bl3rGx3",
        "colab_type": "text"
      },
      "source": [
        "## LDA "
      ]
    },
    {
      "cell_type": "code",
      "metadata": {
        "id": "V5xG2DEjrGx4",
        "colab_type": "code",
        "colab": {}
      },
      "source": [
        "y_train0 = y_train[:,0]\n",
        "y_train1 = y_train[:,1]\n",
        "y_train2 = y_train[:,2]\n",
        "\n",
        "y_test0 = y_test[:,0]\n",
        "y_test1 = y_test[:,1]\n",
        "y_test2 = y_test[:,2]"
      ],
      "execution_count": 0,
      "outputs": []
    },
    {
      "cell_type": "markdown",
      "metadata": {
        "id": "HQ_boDByrGx7",
        "colab_type": "text"
      },
      "source": [
        "Since LDA is based on supervised learning, unlike PCA, which is based on unsupervised learning, we need to pass y in the LDA function as well , when we apply it to the dataset. So, this implies that we need to apply LDA to each training set separately. Let's go."
      ]
    },
    {
      "cell_type": "markdown",
      "metadata": {
        "id": "LTqbz6uIrGx7",
        "colab_type": "text"
      },
      "source": [
        "### Training Set 1 "
      ]
    },
    {
      "cell_type": "code",
      "metadata": {
        "id": "expZp0aYrGx8",
        "colab_type": "code",
        "colab": {},
        "outputId": "4064122a-4678-4977-c74b-2ac5a3174cab"
      },
      "source": [
        "#Applying LDA\n",
        "from sklearn.discriminant_analysis import LinearDiscriminantAnalysis\n",
        "lda = LinearDiscriminantAnalysis(n_components = 2)\n",
        "X_train = lda.fit_transform(X_train,y_train0) #Since it is a supervised model\n",
        "X_test = lda.transform(X_test)"
      ],
      "execution_count": 0,
      "outputs": [
        {
          "output_type": "stream",
          "text": [
            "C:\\Users\\devan\\anaconda3\\envs\\tesnor\\lib\\site-packages\\sklearn\\discriminant_analysis.py:463: ChangedBehaviorWarning: n_components cannot be larger than min(n_features, n_classes - 1). Using min(n_features, n_classes - 1) = min(2, 2 - 1) = 1 components.\n",
            "  ChangedBehaviorWarning)\n",
            "C:\\Users\\devan\\anaconda3\\envs\\tesnor\\lib\\site-packages\\sklearn\\discriminant_analysis.py:469: FutureWarning: In version 0.23, setting n_components > min(n_features, n_classes - 1) will raise a ValueError. You should set n_components to None (default), or a value smaller or equal to min(n_features, n_classes - 1).\n",
            "  warnings.warn(future_msg, FutureWarning)\n"
          ],
          "name": "stderr"
        }
      ]
    },
    {
      "cell_type": "markdown",
      "metadata": {
        "id": "zPYfPozHrGyD",
        "colab_type": "text"
      },
      "source": [
        "So here is the drawback of LDA, they explained it themselves. The number of components that are supposed to be selected should be not be larger than min(n_features, n_classes - 1) = min(13, 2 - 1) = 1 components. So in our case, it should be either set to None or 1 components. Let's try with 1."
      ]
    },
    {
      "cell_type": "code",
      "metadata": {
        "id": "MUv89hknrGyD",
        "colab_type": "code",
        "colab": {}
      },
      "source": [
        "#Applying LDA\n",
        "from sklearn.discriminant_analysis import LinearDiscriminantAnalysis\n",
        "lda0 = LinearDiscriminantAnalysis(n_components = 1)\n",
        "X_train = lda0.fit_transform(X_train,y_train0) #Since it is a supervised model\n",
        "X_test = lda0.transform(X_test)"
      ],
      "execution_count": 0,
      "outputs": []
    },
    {
      "cell_type": "code",
      "metadata": {
        "id": "1mF_EnQTrGyG",
        "colab_type": "code",
        "colab": {},
        "outputId": "d264f63f-d9de-433b-8378-ecb955773512"
      },
      "source": [
        "# Fitting Logistic Regression to the Training set\n",
        "from sklearn.linear_model import LogisticRegression\n",
        "classifier0= LogisticRegression(random_state = 0)\n",
        "classifier0.fit(X_train, y_train0)"
      ],
      "execution_count": 0,
      "outputs": [
        {
          "output_type": "execute_result",
          "data": {
            "text/plain": [
              "LogisticRegression(C=1.0, class_weight=None, dual=False, fit_intercept=True,\n",
              "                   intercept_scaling=1, l1_ratio=None, max_iter=100,\n",
              "                   multi_class='auto', n_jobs=None, penalty='l2',\n",
              "                   random_state=0, solver='lbfgs', tol=0.0001, verbose=0,\n",
              "                   warm_start=False)"
            ]
          },
          "metadata": {
            "tags": []
          },
          "execution_count": 51
        }
      ]
    },
    {
      "cell_type": "code",
      "metadata": {
        "id": "OJX4U8hCrGyI",
        "colab_type": "code",
        "colab": {}
      },
      "source": [
        "# Predicting the Test set results\n",
        "y_pred0 = classifier0.predict(X_test)"
      ],
      "execution_count": 0,
      "outputs": []
    },
    {
      "cell_type": "code",
      "metadata": {
        "id": "iXt9soRUrGyJ",
        "colab_type": "code",
        "colab": {},
        "outputId": "065d3d52-21d2-430d-d55e-34134a92fcf7"
      },
      "source": [
        "# if y_pred0 = (y_pred0 > 0.5), then the accuracy would have been..\n",
        "print('Test accuracy {:.2f}%'.format(classifier0.score(X_test,y_test0)*100))"
      ],
      "execution_count": 0,
      "outputs": [
        {
          "output_type": "stream",
          "text": [
            "Test accuracy 60.00%\n"
          ],
          "name": "stdout"
        }
      ]
    },
    {
      "cell_type": "markdown",
      "metadata": {
        "id": "UVyGjs-CrGyL",
        "colab_type": "text"
      },
      "source": [
        "### Training Set 2"
      ]
    },
    {
      "cell_type": "code",
      "metadata": {
        "id": "NaGMMK1FrGyL",
        "colab_type": "code",
        "colab": {}
      },
      "source": [
        "#Applying LDA\n",
        "from sklearn.discriminant_analysis import LinearDiscriminantAnalysis\n",
        "lda1 = LinearDiscriminantAnalysis(n_components = 1)\n",
        "X_train = lda1.fit_transform(X_train,y_train1) #Since it is a supervised model\n",
        "X_test = lda1.transform(X_test)"
      ],
      "execution_count": 0,
      "outputs": []
    },
    {
      "cell_type": "code",
      "metadata": {
        "id": "EnJB1aCOrGyR",
        "colab_type": "code",
        "colab": {},
        "outputId": "b3ee8157-548e-4d19-f57c-2e4c54ad92b5"
      },
      "source": [
        "# Fitting Logistic Regression to the Training set\n",
        "from sklearn.linear_model import LogisticRegression\n",
        "classifier1= LogisticRegression(random_state = 0)\n",
        "classifier1.fit(X_train, y_train1)"
      ],
      "execution_count": 0,
      "outputs": [
        {
          "output_type": "execute_result",
          "data": {
            "text/plain": [
              "LogisticRegression(C=1.0, class_weight=None, dual=False, fit_intercept=True,\n",
              "                   intercept_scaling=1, l1_ratio=None, max_iter=100,\n",
              "                   multi_class='auto', n_jobs=None, penalty='l2',\n",
              "                   random_state=0, solver='lbfgs', tol=0.0001, verbose=0,\n",
              "                   warm_start=False)"
            ]
          },
          "metadata": {
            "tags": []
          },
          "execution_count": 55
        }
      ]
    },
    {
      "cell_type": "code",
      "metadata": {
        "id": "1_IGh6-7rGyV",
        "colab_type": "code",
        "colab": {}
      },
      "source": [
        "# Predicting the Test set results\n",
        "y_pred1 = classifier1.predict(X_test)"
      ],
      "execution_count": 0,
      "outputs": []
    },
    {
      "cell_type": "code",
      "metadata": {
        "id": "yX-MKY8MrGyX",
        "colab_type": "code",
        "colab": {},
        "outputId": "a920bbd8-8115-4b7e-82df-bdc88259effb"
      },
      "source": [
        "# if y_pred0 = (y_pred0 > 0.5), then the accuracy would have been..\n",
        "print('Test accuracy {:.2f}%'.format(classifier1.score(X_test,y_test1)*100))"
      ],
      "execution_count": 0,
      "outputs": [
        {
          "output_type": "stream",
          "text": [
            "Test accuracy 20.00%\n"
          ],
          "name": "stdout"
        }
      ]
    },
    {
      "cell_type": "markdown",
      "metadata": {
        "id": "5lxwha_orGyn",
        "colab_type": "text"
      },
      "source": [
        "### Training Set 3"
      ]
    },
    {
      "cell_type": "code",
      "metadata": {
        "id": "UoMN08jfrGyo",
        "colab_type": "code",
        "colab": {}
      },
      "source": [
        "#Applying LDA\n",
        "from sklearn.discriminant_analysis import LinearDiscriminantAnalysis\n",
        "lda2 = LinearDiscriminantAnalysis(n_components = 1)\n",
        "X_train = lda2.fit_transform(X_train,y_train2) #Since it is a supervised model\n",
        "X_test = lda2.transform(X_test)"
      ],
      "execution_count": 0,
      "outputs": []
    },
    {
      "cell_type": "code",
      "metadata": {
        "id": "zE7LvIIlrGyq",
        "colab_type": "code",
        "colab": {},
        "outputId": "803f08f1-805d-4933-f881-0741bddafe88"
      },
      "source": [
        "# Fitting Logistic Regression to the Training set\n",
        "from sklearn.linear_model import LogisticRegression\n",
        "classifier2= LogisticRegression(random_state = 0)\n",
        "classifier2.fit(X_train, y_train2)"
      ],
      "execution_count": 0,
      "outputs": [
        {
          "output_type": "execute_result",
          "data": {
            "text/plain": [
              "LogisticRegression(C=1.0, class_weight=None, dual=False, fit_intercept=True,\n",
              "                   intercept_scaling=1, l1_ratio=None, max_iter=100,\n",
              "                   multi_class='auto', n_jobs=None, penalty='l2',\n",
              "                   random_state=0, solver='lbfgs', tol=0.0001, verbose=0,\n",
              "                   warm_start=False)"
            ]
          },
          "metadata": {
            "tags": []
          },
          "execution_count": 59
        }
      ]
    },
    {
      "cell_type": "code",
      "metadata": {
        "id": "t9PaSOUQrGyz",
        "colab_type": "code",
        "colab": {}
      },
      "source": [
        "# Predicting the Test set results\n",
        "y_pred2 = classifier2.predict(X_test)"
      ],
      "execution_count": 0,
      "outputs": []
    },
    {
      "cell_type": "code",
      "metadata": {
        "id": "w5N_3KiYrGy2",
        "colab_type": "code",
        "colab": {},
        "outputId": "bbb5030a-cec2-4bbf-e275-af15a9b8a2bf"
      },
      "source": [
        "# if y_pred0 = (y_pred0 > 0.5), then the accuracy would have been..\n",
        "print('Test accuracy {:.2f}%'.format(classifier2.score(X_test,y_test2)*100))"
      ],
      "execution_count": 0,
      "outputs": [
        {
          "output_type": "stream",
          "text": [
            "Test accuracy 80.00%\n"
          ],
          "name": "stdout"
        }
      ]
    },
    {
      "cell_type": "markdown",
      "metadata": {
        "id": "mlxJAXG-rGzP",
        "colab_type": "text"
      },
      "source": [
        "### Combining and Reverse One-Hot Encoding the predictions"
      ]
    },
    {
      "cell_type": "code",
      "metadata": {
        "id": "HrFG-2hcrGzQ",
        "colab_type": "code",
        "colab": {}
      },
      "source": [
        "# y_pred = np.array([y_pred0.astype(int), y_pred1.astype(int), y_pred2.astype(int)])\n",
        "y_pred = np.array([y_pred0, y_pred1, y_pred2])"
      ],
      "execution_count": 0,
      "outputs": []
    },
    {
      "cell_type": "code",
      "metadata": {
        "id": "Zn09EP6erGzW",
        "colab_type": "code",
        "colab": {},
        "outputId": "349972a5-af5b-4de0-a0c8-33b482c7a345"
      },
      "source": [
        "y_pred"
      ],
      "execution_count": 0,
      "outputs": [
        {
          "output_type": "execute_result",
          "data": {
            "text/plain": [
              "array([[0., 0., 1., 0., 1.],\n",
              "       [1., 0., 0., 1., 0.],\n",
              "       [0., 0., 0., 0., 0.]])"
            ]
          },
          "metadata": {
            "tags": []
          },
          "execution_count": 63
        }
      ]
    },
    {
      "cell_type": "code",
      "metadata": {
        "id": "8Js99FHtrGzY",
        "colab_type": "code",
        "colab": {}
      },
      "source": [
        "#Tranposing the y_pred so that it's shape remains same to that of y_test\n",
        "y_pred = y_pred.transpose()"
      ],
      "execution_count": 0,
      "outputs": []
    },
    {
      "cell_type": "code",
      "metadata": {
        "id": "GKZUVkQFrGza",
        "colab_type": "code",
        "colab": {},
        "outputId": "eb3449a9-9579-446b-a5d0-8f7fded5a8de"
      },
      "source": [
        "print(y_pred)"
      ],
      "execution_count": 0,
      "outputs": [
        {
          "output_type": "stream",
          "text": [
            "[[0. 1. 0.]\n",
            " [0. 0. 0.]\n",
            " [1. 0. 0.]\n",
            " [0. 1. 0.]\n",
            " [1. 0. 0.]]\n"
          ],
          "name": "stdout"
        }
      ]
    },
    {
      "cell_type": "code",
      "metadata": {
        "id": "NCWLSXV9rGze",
        "colab_type": "code",
        "colab": {},
        "outputId": "1346fcb7-a3cf-4108-d3fb-9cc17896fb5d"
      },
      "source": [
        "#Printing a multilabel confusion matrix to check the results\n",
        "import sklearn.metrics as skm\n",
        "cm = skm.multilabel_confusion_matrix(y_test, y_pred)\n",
        "print(cm)\n",
        "print( skm.classification_report(y_test,y_pred))"
      ],
      "execution_count": 0,
      "outputs": [
        {
          "output_type": "stream",
          "text": [
            "[[[2 1]\n",
            "  [1 1]]\n",
            "\n",
            " [[1 2]\n",
            "  [2 0]]\n",
            "\n",
            " [[4 0]\n",
            "  [1 0]]]\n",
            "              precision    recall  f1-score   support\n",
            "\n",
            "           0       0.50      0.50      0.50         2\n",
            "           1       0.00      0.00      0.00         2\n",
            "           2       0.00      0.00      0.00         1\n",
            "\n",
            "   micro avg       0.25      0.20      0.22         5\n",
            "   macro avg       0.17      0.17      0.17         5\n",
            "weighted avg       0.20      0.20      0.20         5\n",
            " samples avg       0.20      0.20      0.20         5\n",
            "\n"
          ],
          "name": "stdout"
        },
        {
          "output_type": "stream",
          "text": [
            "C:\\Users\\devan\\anaconda3\\envs\\tesnor\\lib\\site-packages\\sklearn\\metrics\\_classification.py:1272: UndefinedMetricWarning: Precision and F-score are ill-defined and being set to 0.0 in labels with no predicted samples. Use `zero_division` parameter to control this behavior.\n",
            "  _warn_prf(average, modifier, msg_start, len(result))\n",
            "C:\\Users\\devan\\anaconda3\\envs\\tesnor\\lib\\site-packages\\sklearn\\metrics\\_classification.py:1272: UndefinedMetricWarning: Precision and F-score are ill-defined and being set to 0.0 in samples with no predicted labels. Use `zero_division` parameter to control this behavior.\n",
            "  _warn_prf(average, modifier, msg_start, len(result))\n"
          ],
          "name": "stderr"
        }
      ]
    },
    {
      "cell_type": "markdown",
      "metadata": {
        "id": "tdZhd-28rGzi",
        "colab_type": "text"
      },
      "source": [
        "So, as we can see there are all zeroes present in the row of our first training example, this implies none of the values in the first example are above 0.5 . The machine might have predicted the greater one, and there must be a value of one of these categories higher than the others, but we can't know them , since lda rounded them off in its function. We can create our own lda with sigmoid, but since it is a tougher and longer process, and we already have a better solution, let's move ahead."
      ]
    },
    {
      "cell_type": "code",
      "metadata": {
        "id": "wVnleJf_rGzi",
        "colab_type": "code",
        "colab": {},
        "outputId": "faae7fcf-d1f8-48dc-e63b-afea998c4c21"
      },
      "source": [
        "# Converting the y_pred numpy array to list , for convenience\n",
        "y_pred_list = y_pred.tolist()\n",
        "print(y_pred_list)"
      ],
      "execution_count": 0,
      "outputs": [
        {
          "output_type": "stream",
          "text": [
            "[[0.0, 1.0, 0.0], [0.0, 0.0, 0.0], [1.0, 0.0, 0.0], [0.0, 1.0, 0.0], [1.0, 0.0, 0.0]]\n"
          ],
          "name": "stdout"
        }
      ]
    },
    {
      "cell_type": "code",
      "metadata": {
        "id": "E-_Kqna9rGzk",
        "colab_type": "code",
        "colab": {},
        "outputId": "03624deb-c7d9-41cf-dab5-1b3456ccada6"
      },
      "source": [
        "y_test"
      ],
      "execution_count": 0,
      "outputs": [
        {
          "output_type": "execute_result",
          "data": {
            "text/plain": [
              "array([[1., 0., 0.],\n",
              "       [0., 1., 0.],\n",
              "       [0., 1., 0.],\n",
              "       [0., 0., 1.],\n",
              "       [1., 0., 0.]])"
            ]
          },
          "metadata": {
            "tags": []
          },
          "execution_count": 68
        }
      ]
    },
    {
      "cell_type": "code",
      "metadata": {
        "id": "jICocdJ2rGzn",
        "colab_type": "code",
        "colab": {}
      },
      "source": [
        "# Creating a categorised array with zeroes by equating it with the the newly created list \n",
        "# And initalizing it to the index which has value 1.0  \n",
        "y_pred_categorised = np.zeros(np.array(y_pred_list).shape[0])\n",
        "for i in range(len(y_pred_list)):\n",
        "    for j in range(len(y_pred_list[i])):\n",
        "        if y_pred[i][j] == 1.0:\n",
        "            y_pred_categorised[i] = j "
      ],
      "execution_count": 0,
      "outputs": []
    },
    {
      "cell_type": "code",
      "metadata": {
        "id": "0RUZpOs9rGzp",
        "colab_type": "code",
        "colab": {},
        "outputId": "9310ae28-b2c1-41ab-f3a5-46738a26b3d8"
      },
      "source": [
        "y_test"
      ],
      "execution_count": 0,
      "outputs": [
        {
          "output_type": "execute_result",
          "data": {
            "text/plain": [
              "array([[1., 0., 0.],\n",
              "       [0., 1., 0.],\n",
              "       [0., 1., 0.],\n",
              "       [0., 0., 1.],\n",
              "       [1., 0., 0.]])"
            ]
          },
          "metadata": {
            "tags": []
          },
          "execution_count": 70
        }
      ]
    },
    {
      "cell_type": "code",
      "metadata": {
        "id": "zHvHn4w5rGzs",
        "colab_type": "code",
        "colab": {},
        "outputId": "81ebf00a-32c4-4645-c5e6-bfd815fb1142"
      },
      "source": [
        "# Same process for y_test\n",
        "y_test_list = y_test.tolist()\n",
        "print(y_test_list)"
      ],
      "execution_count": 0,
      "outputs": [
        {
          "output_type": "stream",
          "text": [
            "[[1.0, 0.0, 0.0], [0.0, 1.0, 0.0], [0.0, 1.0, 0.0], [0.0, 0.0, 1.0], [1.0, 0.0, 0.0]]\n"
          ],
          "name": "stdout"
        }
      ]
    },
    {
      "cell_type": "code",
      "metadata": {
        "id": "tv5GeHQ1rGzv",
        "colab_type": "code",
        "colab": {},
        "outputId": "ffd8b9dc-16ce-406f-beb3-d9da7955403c"
      },
      "source": [
        "y_test"
      ],
      "execution_count": 0,
      "outputs": [
        {
          "output_type": "execute_result",
          "data": {
            "text/plain": [
              "array([[1., 0., 0.],\n",
              "       [0., 1., 0.],\n",
              "       [0., 1., 0.],\n",
              "       [0., 0., 1.],\n",
              "       [1., 0., 0.]])"
            ]
          },
          "metadata": {
            "tags": []
          },
          "execution_count": 72
        }
      ]
    },
    {
      "cell_type": "code",
      "metadata": {
        "scrolled": true,
        "id": "HMoOfNburGz2",
        "colab_type": "code",
        "colab": {},
        "outputId": "5ac69b96-2d7a-4955-c6af-b5772c5c9779"
      },
      "source": [
        "y_test_list"
      ],
      "execution_count": 0,
      "outputs": [
        {
          "output_type": "execute_result",
          "data": {
            "text/plain": [
              "[[1.0, 0.0, 0.0],\n",
              " [0.0, 1.0, 0.0],\n",
              " [0.0, 1.0, 0.0],\n",
              " [0.0, 0.0, 1.0],\n",
              " [1.0, 0.0, 0.0]]"
            ]
          },
          "metadata": {
            "tags": []
          },
          "execution_count": 73
        }
      ]
    },
    {
      "cell_type": "code",
      "metadata": {
        "id": "vkw8caTsrGz8",
        "colab_type": "code",
        "colab": {}
      },
      "source": [
        "y_test_categorised = np.zeros(np.array(y_test_list).shape[0])\n",
        "for i in range(len(y_test_list)):\n",
        "    for j in range(len(y_test_list[i])):\n",
        "        if y_test[i][j] == 1.0:\n",
        "            y_test_categorised[i] = j "
      ],
      "execution_count": 0,
      "outputs": []
    },
    {
      "cell_type": "code",
      "metadata": {
        "id": "utnZopGKrGz-",
        "colab_type": "code",
        "colab": {},
        "outputId": "2b33ab10-3344-4634-abc4-78b8fcc58230"
      },
      "source": [
        "y_test_categorised"
      ],
      "execution_count": 0,
      "outputs": [
        {
          "output_type": "execute_result",
          "data": {
            "text/plain": [
              "array([0., 1., 1., 2., 0.])"
            ]
          },
          "metadata": {
            "tags": []
          },
          "execution_count": 75
        }
      ]
    },
    {
      "cell_type": "code",
      "metadata": {
        "id": "gFcrH-APrGz_",
        "colab_type": "code",
        "colab": {},
        "outputId": "1212b8b8-07f2-4638-8cd1-a8a9b917572d"
      },
      "source": [
        "# Making the Confusion Matrix\n",
        "from sklearn.metrics import confusion_matrix\n",
        "cm = confusion_matrix(y_test_categorised,y_pred_categorised)\n",
        "print(cm)"
      ],
      "execution_count": 0,
      "outputs": [
        {
          "output_type": "stream",
          "text": [
            "[[1 1 0]\n",
            " [2 0 0]\n",
            " [0 1 0]]\n"
          ],
          "name": "stdout"
        }
      ]
    },
    {
      "cell_type": "code",
      "metadata": {
        "id": "IWsQq87crG0A",
        "colab_type": "code",
        "colab": {},
        "outputId": "55d13622-73e8-4a08-af36-3add458cddca"
      },
      "source": [
        "print(\"Accuracy:\",str(round((2+1)/(5)*100,2)), \"%\")"
      ],
      "execution_count": 0,
      "outputs": [
        {
          "output_type": "stream",
          "text": [
            "Accuracy: 60.0 %\n"
          ],
          "name": "stdout"
        }
      ]
    },
    {
      "cell_type": "markdown",
      "metadata": {
        "id": "IUufsLvqrG0G",
        "colab_type": "text"
      },
      "source": [
        "So, we got 3/5 examples correct. That is still great, since we don't have much training examples. bringing more will make this model better at predicting the virality of the websites correctly."
      ]
    },
    {
      "cell_type": "markdown",
      "metadata": {
        "id": "c61ztAG_rG0G",
        "colab_type": "text"
      },
      "source": [
        "So that marks the end of this notebook. In the next one, we will fit this data using Logistic Regression , Kernel SVM, Naive Bayes and other models, without fitting them to each category separately."
      ]
    }
  ]
}