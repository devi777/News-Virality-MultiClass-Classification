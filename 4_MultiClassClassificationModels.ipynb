{
  "nbformat": 4,
  "nbformat_minor": 0,
  "metadata": {
    "kernelspec": {
      "display_name": "Python 3",
      "language": "python",
      "name": "python3"
    },
    "language_info": {
      "codemirror_mode": {
        "name": "ipython",
        "version": 3
      },
      "file_extension": ".py",
      "mimetype": "text/x-python",
      "name": "python",
      "nbconvert_exporter": "python",
      "pygments_lexer": "ipython3",
      "version": "3.7.7"
    },
    "colab": {
      "name": "4_MultiClassClassificationModels.ipynb",
      "provenance": [],
      "include_colab_link": true
    }
  },
  "cells": [
    {
      "cell_type": "markdown",
      "metadata": {
        "id": "view-in-github",
        "colab_type": "text"
      },
      "source": [
        "<a href=\"https://colab.research.google.com/github/devi777/News-Virality-MultiClass-Classification/blob/master/4_MultiClassClassificationModels.ipynb\" target=\"_parent\"><img src=\"https://colab.research.google.com/assets/colab-badge.svg\" alt=\"Open In Colab\"/></a>"
      ]
    },
    {
      "cell_type": "markdown",
      "metadata": {
        "id": "jWLVStrbsrem",
        "colab_type": "text"
      },
      "source": [
        "# Bipolar Factory | Machine Learning"
      ]
    },
    {
      "cell_type": "markdown",
      "metadata": {
        "id": "Lv1ZpneQsren",
        "colab_type": "text"
      },
      "source": [
        "## Pre-Processing Data"
      ]
    },
    {
      "cell_type": "code",
      "metadata": {
        "id": "6ZQ2V-y-sreo",
        "colab_type": "code",
        "colab": {}
      },
      "source": [
        "import numpy as np\n",
        "import matplotlib.pyplot as plt\n",
        "import pandas as pd\n",
        "import seaborn as sns"
      ],
      "execution_count": 0,
      "outputs": []
    },
    {
      "cell_type": "code",
      "metadata": {
        "id": "mqpVSjdCsres",
        "colab_type": "code",
        "colab": {}
      },
      "source": [
        "# Importing the dataset\n",
        "dataset = pd.read_csv('News3.csv')\n",
        "X = dataset.iloc[:, 1:-1].values\n",
        "y = dataset.iloc[:, -1].values"
      ],
      "execution_count": 0,
      "outputs": []
    },
    {
      "cell_type": "code",
      "metadata": {
        "id": "U51oUIA9srev",
        "colab_type": "code",
        "colab": {},
        "outputId": "4917f276-05ed-4996-f73c-c098b13edad0"
      },
      "source": [
        "dataset"
      ],
      "execution_count": 0,
      "outputs": [
        {
          "output_type": "execute_result",
          "data": {
            "text/html": [
              "<div>\n",
              "<style scoped>\n",
              "    .dataframe tbody tr th:only-of-type {\n",
              "        vertical-align: middle;\n",
              "    }\n",
              "\n",
              "    .dataframe tbody tr th {\n",
              "        vertical-align: top;\n",
              "    }\n",
              "\n",
              "    .dataframe thead th {\n",
              "        text-align: right;\n",
              "    }\n",
              "</style>\n",
              "<table border=\"1\" class=\"dataframe\">\n",
              "  <thead>\n",
              "    <tr style=\"text-align: right;\">\n",
              "      <th></th>\n",
              "      <th>NAME</th>\n",
              "      <th>VPM</th>\n",
              "      <th>KOB</th>\n",
              "      <th>DPPV</th>\n",
              "      <th>DTS</th>\n",
              "      <th>BR</th>\n",
              "      <th>TP</th>\n",
              "      <th>TR</th>\n",
              "      <th>PB</th>\n",
              "      <th>PPD</th>\n",
              "      <th>AR</th>\n",
              "      <th>SEM</th>\n",
              "      <th>TFPM</th>\n",
              "      <th>DA</th>\n",
              "      <th>TARGET</th>\n",
              "    </tr>\n",
              "  </thead>\n",
              "  <tbody>\n",
              "    <tr>\n",
              "      <th>0</th>\n",
              "      <td>YahooNews</td>\n",
              "      <td>175000000</td>\n",
              "      <td>2.800</td>\n",
              "      <td>4.34</td>\n",
              "      <td>4.600</td>\n",
              "      <td>39.2</td>\n",
              "      <td>8.3</td>\n",
              "      <td>0.228022</td>\n",
              "      <td>1.0</td>\n",
              "      <td>25</td>\n",
              "      <td>11</td>\n",
              "      <td>395</td>\n",
              "      <td>1.10</td>\n",
              "      <td>95</td>\n",
              "      <td>0</td>\n",
              "    </tr>\n",
              "    <tr>\n",
              "      <th>1</th>\n",
              "      <td>HuffingtonPost</td>\n",
              "      <td>110000000</td>\n",
              "      <td>1.200</td>\n",
              "      <td>1.50</td>\n",
              "      <td>2.260</td>\n",
              "      <td>48.1</td>\n",
              "      <td>20.8</td>\n",
              "      <td>0.500000</td>\n",
              "      <td>2.0</td>\n",
              "      <td>29</td>\n",
              "      <td>11655</td>\n",
              "      <td>4500</td>\n",
              "      <td>11.40</td>\n",
              "      <td>93</td>\n",
              "      <td>1</td>\n",
              "    </tr>\n",
              "    <tr>\n",
              "      <th>2</th>\n",
              "      <td>CNN</td>\n",
              "      <td>95000000</td>\n",
              "      <td>1.100</td>\n",
              "      <td>2.28</td>\n",
              "      <td>4.230</td>\n",
              "      <td>52.3</td>\n",
              "      <td>29.1</td>\n",
              "      <td>0.659864</td>\n",
              "      <td>1.0</td>\n",
              "      <td>30</td>\n",
              "      <td>72</td>\n",
              "      <td>417</td>\n",
              "      <td>47.20</td>\n",
              "      <td>95</td>\n",
              "      <td>0</td>\n",
              "    </tr>\n",
              "    <tr>\n",
              "      <th>3</th>\n",
              "      <td>NewYorkTimes</td>\n",
              "      <td>70000000</td>\n",
              "      <td>1.700</td>\n",
              "      <td>2.50</td>\n",
              "      <td>3.150</td>\n",
              "      <td>60.6</td>\n",
              "      <td>41.9</td>\n",
              "      <td>0.945824</td>\n",
              "      <td>1.0</td>\n",
              "      <td>28</td>\n",
              "      <td>77</td>\n",
              "      <td>555</td>\n",
              "      <td>44.70</td>\n",
              "      <td>95</td>\n",
              "      <td>0</td>\n",
              "    </tr>\n",
              "    <tr>\n",
              "      <th>4</th>\n",
              "      <td>FoxNews</td>\n",
              "      <td>65000000</td>\n",
              "      <td>0.550</td>\n",
              "      <td>2.59</td>\n",
              "      <td>5.210</td>\n",
              "      <td>46.3</td>\n",
              "      <td>22.2</td>\n",
              "      <td>0.500000</td>\n",
              "      <td>2.0</td>\n",
              "      <td>30</td>\n",
              "      <td>227</td>\n",
              "      <td>15</td>\n",
              "      <td>18.50</td>\n",
              "      <td>95</td>\n",
              "      <td>1</td>\n",
              "    </tr>\n",
              "    <tr>\n",
              "      <th>5</th>\n",
              "      <td>NBCNews</td>\n",
              "      <td>63000000</td>\n",
              "      <td>0.460</td>\n",
              "      <td>1.37</td>\n",
              "      <td>2.260</td>\n",
              "      <td>74.3</td>\n",
              "      <td>46.6</td>\n",
              "      <td>1.290859</td>\n",
              "      <td>1.0</td>\n",
              "      <td>30</td>\n",
              "      <td>507</td>\n",
              "      <td>1000</td>\n",
              "      <td>7.50</td>\n",
              "      <td>92</td>\n",
              "      <td>1</td>\n",
              "    </tr>\n",
              "    <tr>\n",
              "      <th>6</th>\n",
              "      <td>MailOnline</td>\n",
              "      <td>53000000</td>\n",
              "      <td>0.710</td>\n",
              "      <td>2.04</td>\n",
              "      <td>4.350</td>\n",
              "      <td>59.1</td>\n",
              "      <td>32.0</td>\n",
              "      <td>0.631164</td>\n",
              "      <td>2.0</td>\n",
              "      <td>30</td>\n",
              "      <td>271</td>\n",
              "      <td>16</td>\n",
              "      <td>16.40</td>\n",
              "      <td>94</td>\n",
              "      <td>1</td>\n",
              "    </tr>\n",
              "    <tr>\n",
              "      <th>7</th>\n",
              "      <td>TheGuardian</td>\n",
              "      <td>42000000</td>\n",
              "      <td>1.400</td>\n",
              "      <td>2.64</td>\n",
              "      <td>2.683</td>\n",
              "      <td>62.7</td>\n",
              "      <td>52.7</td>\n",
              "      <td>1.203196</td>\n",
              "      <td>1.0</td>\n",
              "      <td>30</td>\n",
              "      <td>119</td>\n",
              "      <td>50</td>\n",
              "      <td>8.20</td>\n",
              "      <td>95</td>\n",
              "      <td>0</td>\n",
              "    </tr>\n",
              "    <tr>\n",
              "      <th>8</th>\n",
              "      <td>ABCNews</td>\n",
              "      <td>36000000</td>\n",
              "      <td>0.482</td>\n",
              "      <td>1.39</td>\n",
              "      <td>2.330</td>\n",
              "      <td>70.8</td>\n",
              "      <td>45.2</td>\n",
              "      <td>1.231608</td>\n",
              "      <td>1.0</td>\n",
              "      <td>25</td>\n",
              "      <td>1047</td>\n",
              "      <td>1230</td>\n",
              "      <td>0.05</td>\n",
              "      <td>93</td>\n",
              "      <td>0</td>\n",
              "    </tr>\n",
              "    <tr>\n",
              "      <th>9</th>\n",
              "      <td>TimesOfIndia</td>\n",
              "      <td>212000000</td>\n",
              "      <td>0.063</td>\n",
              "      <td>1.40</td>\n",
              "      <td>2.050</td>\n",
              "      <td>64.1</td>\n",
              "      <td>46.2</td>\n",
              "      <td>0.540351</td>\n",
              "      <td>0.5</td>\n",
              "      <td>26</td>\n",
              "      <td>18024</td>\n",
              "      <td>467</td>\n",
              "      <td>12.70</td>\n",
              "      <td>93</td>\n",
              "      <td>1</td>\n",
              "    </tr>\n",
              "    <tr>\n",
              "      <th>10</th>\n",
              "      <td>NDTVNews</td>\n",
              "      <td>50000000</td>\n",
              "      <td>0.610</td>\n",
              "      <td>2.36</td>\n",
              "      <td>3.980</td>\n",
              "      <td>56.5</td>\n",
              "      <td>43.3</td>\n",
              "      <td>0.714521</td>\n",
              "      <td>1.0</td>\n",
              "      <td>30</td>\n",
              "      <td>358</td>\n",
              "      <td>11</td>\n",
              "      <td>12.60</td>\n",
              "      <td>92</td>\n",
              "      <td>1</td>\n",
              "    </tr>\n",
              "    <tr>\n",
              "      <th>11</th>\n",
              "      <td>IndiaToday</td>\n",
              "      <td>17000000</td>\n",
              "      <td>0.300</td>\n",
              "      <td>1.59</td>\n",
              "      <td>2.380</td>\n",
              "      <td>74.6</td>\n",
              "      <td>78.2</td>\n",
              "      <td>1.486692</td>\n",
              "      <td>0.0</td>\n",
              "      <td>30</td>\n",
              "      <td>567</td>\n",
              "      <td>70</td>\n",
              "      <td>5.30</td>\n",
              "      <td>89</td>\n",
              "      <td>2</td>\n",
              "    </tr>\n",
              "    <tr>\n",
              "      <th>12</th>\n",
              "      <td>IndianExpress</td>\n",
              "      <td>18000000</td>\n",
              "      <td>0.319</td>\n",
              "      <td>2.34</td>\n",
              "      <td>3.530</td>\n",
              "      <td>62.1</td>\n",
              "      <td>41.3</td>\n",
              "      <td>0.645312</td>\n",
              "      <td>0.0</td>\n",
              "      <td>30</td>\n",
              "      <td>1100</td>\n",
              "      <td>7</td>\n",
              "      <td>3.50</td>\n",
              "      <td>91</td>\n",
              "      <td>2</td>\n",
              "    </tr>\n",
              "    <tr>\n",
              "      <th>13</th>\n",
              "      <td>TheHindu</td>\n",
              "      <td>65000000</td>\n",
              "      <td>0.253</td>\n",
              "      <td>1.91</td>\n",
              "      <td>2.750</td>\n",
              "      <td>65.8</td>\n",
              "      <td>64.4</td>\n",
              "      <td>1.047154</td>\n",
              "      <td>0.5</td>\n",
              "      <td>30</td>\n",
              "      <td>977</td>\n",
              "      <td>1</td>\n",
              "      <td>6.00</td>\n",
              "      <td>91</td>\n",
              "      <td>2</td>\n",
              "    </tr>\n",
              "  </tbody>\n",
              "</table>\n",
              "</div>"
            ],
            "text/plain": [
              "              NAME        VPM    KOB  DPPV    DTS    BR    TP        TR   PB  \\\n",
              "0        YahooNews  175000000  2.800  4.34  4.600  39.2   8.3  0.228022  1.0   \n",
              "1   HuffingtonPost  110000000  1.200  1.50  2.260  48.1  20.8  0.500000  2.0   \n",
              "2              CNN   95000000  1.100  2.28  4.230  52.3  29.1  0.659864  1.0   \n",
              "3     NewYorkTimes   70000000  1.700  2.50  3.150  60.6  41.9  0.945824  1.0   \n",
              "4          FoxNews   65000000  0.550  2.59  5.210  46.3  22.2  0.500000  2.0   \n",
              "5          NBCNews   63000000  0.460  1.37  2.260  74.3  46.6  1.290859  1.0   \n",
              "6       MailOnline   53000000  0.710  2.04  4.350  59.1  32.0  0.631164  2.0   \n",
              "7      TheGuardian   42000000  1.400  2.64  2.683  62.7  52.7  1.203196  1.0   \n",
              "8          ABCNews   36000000  0.482  1.39  2.330  70.8  45.2  1.231608  1.0   \n",
              "9     TimesOfIndia  212000000  0.063  1.40  2.050  64.1  46.2  0.540351  0.5   \n",
              "10        NDTVNews   50000000  0.610  2.36  3.980  56.5  43.3  0.714521  1.0   \n",
              "11      IndiaToday   17000000  0.300  1.59  2.380  74.6  78.2  1.486692  0.0   \n",
              "12   IndianExpress   18000000  0.319  2.34  3.530  62.1  41.3  0.645312  0.0   \n",
              "13        TheHindu   65000000  0.253  1.91  2.750  65.8  64.4  1.047154  0.5   \n",
              "\n",
              "    PPD     AR   SEM   TFPM  DA  TARGET  \n",
              "0    25     11   395   1.10  95       0  \n",
              "1    29  11655  4500  11.40  93       1  \n",
              "2    30     72   417  47.20  95       0  \n",
              "3    28     77   555  44.70  95       0  \n",
              "4    30    227    15  18.50  95       1  \n",
              "5    30    507  1000   7.50  92       1  \n",
              "6    30    271    16  16.40  94       1  \n",
              "7    30    119    50   8.20  95       0  \n",
              "8    25   1047  1230   0.05  93       0  \n",
              "9    26  18024   467  12.70  93       1  \n",
              "10   30    358    11  12.60  92       1  \n",
              "11   30    567    70   5.30  89       2  \n",
              "12   30   1100     7   3.50  91       2  \n",
              "13   30    977     1   6.00  91       2  "
            ]
          },
          "metadata": {
            "tags": []
          },
          "execution_count": 3
        }
      ]
    },
    {
      "cell_type": "markdown",
      "metadata": {
        "id": "tp1WuMfVsrez",
        "colab_type": "text"
      },
      "source": [
        "Since, we are not supposed to fit the models on each category, so we will not one-hot encode y this time. "
      ]
    },
    {
      "cell_type": "code",
      "metadata": {
        "id": "nefi38Lrsrez",
        "colab_type": "code",
        "colab": {}
      },
      "source": [
        "# Splitting the dataset into the Training set and Test set\n",
        "from sklearn.model_selection import train_test_split\n",
        "X_train, X_test, y_train, y_test = train_test_split(X, y, test_size = 4/13, random_state = 0)"
      ],
      "execution_count": 0,
      "outputs": []
    },
    {
      "cell_type": "code",
      "metadata": {
        "id": "DJf3VSuJsre2",
        "colab_type": "code",
        "colab": {}
      },
      "source": [
        "# Feature Scaling\n",
        "from sklearn.preprocessing import StandardScaler\n",
        "sc = StandardScaler()\n",
        "X_train = sc.fit_transform(X_train)\n",
        "X_test = sc.transform(X_test)"
      ],
      "execution_count": 0,
      "outputs": []
    },
    {
      "cell_type": "markdown",
      "metadata": {
        "id": "8AOz4Xamsre4",
        "colab_type": "text"
      },
      "source": [
        "## Analyzing Data using Logistic Regression"
      ]
    },
    {
      "cell_type": "markdown",
      "metadata": {
        "id": "Rwcnzm4zsre5",
        "colab_type": "text"
      },
      "source": [
        "As we know, logistic regression can't be run on multi-class classification without changing its standard parameters. If we keep the parameters standard, then the y has to be one hot encoded and predicted separately for each set, like we did in the previous notebook."
      ]
    },
    {
      "cell_type": "markdown",
      "metadata": {
        "id": "UvkWtRebsre5",
        "colab_type": "text"
      },
      "source": [
        "In the multiclass case, the training algorithm uses the one-vs-rest (OvR) scheme if the ‘multi_class’ option is set to ‘ovr’, and uses the cross-entropy loss if the ‘multi_class’ option is set to ‘multinomial’. (Currently the ‘multinomial’ option is supported only by the ‘lbfgs’, ‘sag’, ‘saga’ and ‘newton-cg’ solvers.)"
      ]
    },
    {
      "cell_type": "markdown",
      "metadata": {
        "id": "svvGDlzBsre6",
        "colab_type": "text"
      },
      "source": [
        "So, we will use lbfgs solver in this dataset, and see how well it predicts y, i.e., the virality of the news and information websites. Let's start."
      ]
    },
    {
      "cell_type": "code",
      "metadata": {
        "id": "NTA6B-5zsre6",
        "colab_type": "code",
        "colab": {},
        "outputId": "ea7cc134-843d-4c84-998d-f9fc8eb4c10e"
      },
      "source": [
        "# Fitting Logistic Regression to the Training set\n",
        "from sklearn.linear_model import LogisticRegression\n",
        "classifier = LogisticRegression(solver = 'lbfgs')\n",
        "classifier.fit(X_train, y_train)"
      ],
      "execution_count": 0,
      "outputs": [
        {
          "output_type": "execute_result",
          "data": {
            "text/plain": [
              "LogisticRegression(C=1.0, class_weight=None, dual=False, fit_intercept=True,\n",
              "                   intercept_scaling=1, l1_ratio=None, max_iter=100,\n",
              "                   multi_class='auto', n_jobs=None, penalty='l2',\n",
              "                   random_state=None, solver='lbfgs', tol=0.0001, verbose=0,\n",
              "                   warm_start=False)"
            ]
          },
          "metadata": {
            "tags": []
          },
          "execution_count": 6
        }
      ]
    },
    {
      "cell_type": "code",
      "metadata": {
        "id": "QR1QDpn_sre9",
        "colab_type": "code",
        "colab": {}
      },
      "source": [
        "# Predicting the Test set results\n",
        "y_pred = classifier.predict(X_test)"
      ],
      "execution_count": 0,
      "outputs": []
    },
    {
      "cell_type": "code",
      "metadata": {
        "id": "_GRe_FSmsrfC",
        "colab_type": "code",
        "colab": {},
        "outputId": "a10330ad-1950-4a69-ede0-0ee85b5051b6"
      },
      "source": [
        "print('Test accuracy {:.2f}%'.format(classifier.score(X_test,y_test)*100))"
      ],
      "execution_count": 0,
      "outputs": [
        {
          "output_type": "stream",
          "text": [
            "Test accuracy 80.00%\n"
          ],
          "name": "stdout"
        }
      ]
    },
    {
      "cell_type": "markdown",
      "metadata": {
        "id": "HY__Bmd-srfE",
        "colab_type": "text"
      },
      "source": [
        "That is so good. Wonderful. So, Logistic Regression fits beautifully on our randomly initialised dataset. I am focussing on our dataset being randomly initaliazed because if the model can perform this well on this dataset, then it can perform even better if the dataset had more training examples with the correct y values. It might be possible that the y values I predicted are correct as well, but that is pure luck. And ML doesn't work on pure luck :)\n",
        "\n",
        "Now, let's move ahead and make the confusion matrix."
      ]
    },
    {
      "cell_type": "code",
      "metadata": {
        "id": "_dYp3GH8srfE",
        "colab_type": "code",
        "colab": {},
        "outputId": "e06dbf46-d358-4346-b810-e5e5c40b88e0"
      },
      "source": [
        "# Making the Confusion Matrix\n",
        "from sklearn.metrics import confusion_matrix\n",
        "cm = confusion_matrix(y_test, y_pred)\n",
        "print(cm)"
      ],
      "execution_count": 0,
      "outputs": [
        {
          "output_type": "stream",
          "text": [
            "[[1 1 0]\n",
            " [0 2 0]\n",
            " [0 0 1]]\n"
          ],
          "name": "stdout"
        }
      ]
    },
    {
      "cell_type": "code",
      "metadata": {
        "id": "hUUfOmPhsrfH",
        "colab_type": "code",
        "colab": {}
      },
      "source": [
        "def plot_confusion_matrix(cm,\n",
        "                          target_names,\n",
        "                          title='Confusion matrix',\n",
        "                          cmap=None,\n",
        "                          normalize=True):\n",
        "    import matplotlib.pyplot as plt\n",
        "    import numpy as np\n",
        "    import itertools\n",
        "\n",
        "    accuracy = np.trace(cm) / float(np.sum(cm))\n",
        "    misclass = 1 - accuracy\n",
        "\n",
        "    if cmap is None:\n",
        "        cmap = plt.get_cmap('Blues')\n",
        "\n",
        "    plt.figure(figsize=(8, 6))\n",
        "    plt.imshow(cm, interpolation='nearest', cmap=cmap)\n",
        "    plt.title(title)\n",
        "    plt.colorbar()\n",
        "\n",
        "    if target_names is not None:\n",
        "        tick_marks = np.arange(len(target_names))\n",
        "        plt.xticks(tick_marks, target_names, rotation=45)\n",
        "        plt.yticks(tick_marks, target_names)\n",
        "\n",
        "    if normalize:\n",
        "        cm = cm.astype('float') / cm.sum(axis=1)[:, np.newaxis]\n",
        "\n",
        "\n",
        "    thresh = cm.max() / 1.5 if normalize else cm.max() / 2\n",
        "    for i, j in itertools.product(range(cm.shape[0]), range(cm.shape[1])):\n",
        "        if normalize:\n",
        "            plt.text(j, i, \"{:0.4f}\".format(cm[i, j]),\n",
        "                     horizontalalignment=\"center\",\n",
        "                     color=\"white\" if cm[i, j] > thresh else \"black\")\n",
        "        else:\n",
        "            plt.text(j, i, \"{:,}\".format(cm[i, j]),\n",
        "                     horizontalalignment=\"center\",\n",
        "                     color=\"white\" if cm[i, j] > thresh else \"black\")\n",
        "\n",
        "\n",
        "    plt.tight_layout()\n",
        "    plt.ylabel('True label')\n",
        "    plt.xlabel('Predicted label\\naccuracy={:0.4f}; misclass={:0.4f}'.format(accuracy, misclass))\n",
        "    plt.show()"
      ],
      "execution_count": 0,
      "outputs": []
    },
    {
      "cell_type": "code",
      "metadata": {
        "id": "nqEYJMsmsrfK",
        "colab_type": "code",
        "colab": {},
        "outputId": "aa3cce29-cc53-4057-ff0a-e057c0dc716f"
      },
      "source": [
        "plot_confusion_matrix(cm = cm, normalize    = False, target_names = ['high', 'medium', 'low'],\n",
        "                      title        = \"Confusion Matrix\")"
      ],
      "execution_count": 0,
      "outputs": [
        {
          "output_type": "display_data",
          "data": {
            "image/png": "[encoded data removed]",
            "text/plain": [
              "<Figure size 576x432 with 2 Axes>"
            ]
          },
          "metadata": {
            "tags": [],
            "needs_background": "light"
          }
        }
      ]
    },
    {
      "cell_type": "markdown",
      "metadata": {
        "id": "xW38Ar2RsrfM",
        "colab_type": "text"
      },
      "source": [
        "So, it calculated 4/5 examples correctly. Great. I am happy.\n",
        "Let's try applying KNN, i.e., K-Nearest Neighbors Classifier to every data now."
      ]
    },
    {
      "cell_type": "markdown",
      "metadata": {
        "id": "2SlTjY3ssrfM",
        "colab_type": "text"
      },
      "source": [
        "## Analyzing Data using KNN"
      ]
    },
    {
      "cell_type": "code",
      "metadata": {
        "id": "sNT6k5uFsrfN",
        "colab_type": "code",
        "colab": {},
        "outputId": "5065e06f-e334-464d-f65f-299b493fbe48"
      },
      "source": [
        "from sklearn.neighbors import KNeighborsClassifier\n",
        "classifier = KNeighborsClassifier(n_neighbors=5,metric='minkowski',p=2)\n",
        "classifier.fit(X_train,y_train)"
      ],
      "execution_count": 0,
      "outputs": [
        {
          "output_type": "execute_result",
          "data": {
            "text/plain": [
              "KNeighborsClassifier(algorithm='auto', leaf_size=30, metric='minkowski',\n",
              "                     metric_params=None, n_jobs=None, n_neighbors=5, p=2,\n",
              "                     weights='uniform')"
            ]
          },
          "metadata": {
            "tags": []
          },
          "execution_count": 15
        }
      ]
    },
    {
      "cell_type": "code",
      "metadata": {
        "id": "ZzOcBTXHsrfP",
        "colab_type": "code",
        "colab": {}
      },
      "source": [
        "y_pred = classifier.predict(X_test)"
      ],
      "execution_count": 0,
      "outputs": []
    },
    {
      "cell_type": "code",
      "metadata": {
        "id": "0HYpc5d0srfR",
        "colab_type": "code",
        "colab": {},
        "outputId": "7b98b396-0d6d-4dff-bd0e-f15fd86921f9"
      },
      "source": [
        "# Making the Confusion Matrix\n",
        "from sklearn.metrics import confusion_matrix\n",
        "cm = confusion_matrix(y_test, y_pred)\n",
        "print(cm)"
      ],
      "execution_count": 0,
      "outputs": [
        {
          "output_type": "stream",
          "text": [
            "[[1 1 0]\n",
            " [2 0 0]\n",
            " [0 1 0]]\n"
          ],
          "name": "stdout"
        }
      ]
    },
    {
      "cell_type": "code",
      "metadata": {
        "id": "lazpSlfJsrfT",
        "colab_type": "code",
        "colab": {},
        "outputId": "d42a7953-6062-4d79-c8ef-a3946a4cf401"
      },
      "source": [
        "print('Test accuracy {:.2f}%'.format(classifier.score(X_test,y_test)*100))"
      ],
      "execution_count": 0,
      "outputs": [
        {
          "output_type": "stream",
          "text": [
            "Test accuracy 20.00%\n"
          ],
          "name": "stdout"
        }
      ]
    },
    {
      "cell_type": "markdown",
      "metadata": {
        "id": "ynxziLxFsrfW",
        "colab_type": "text"
      },
      "source": [
        "Oops, not that good. Let's try changing the parameters a little."
      ]
    },
    {
      "cell_type": "code",
      "metadata": {
        "id": "QwsY743JsrfW",
        "colab_type": "code",
        "colab": {},
        "outputId": "cfd86e17-317f-43be-8572-9d470b0adc19"
      },
      "source": [
        "from sklearn.neighbors import KNeighborsClassifier\n",
        "classifier = KNeighborsClassifier(n_neighbors=3,metric='minkowski',p=2)\n",
        "classifier.fit(X_train,y_train)"
      ],
      "execution_count": 0,
      "outputs": [
        {
          "output_type": "execute_result",
          "data": {
            "text/plain": [
              "KNeighborsClassifier(algorithm='auto', leaf_size=30, metric='minkowski',\n",
              "                     metric_params=None, n_jobs=None, n_neighbors=3, p=2,\n",
              "                     weights='uniform')"
            ]
          },
          "metadata": {
            "tags": []
          },
          "execution_count": 19
        }
      ]
    },
    {
      "cell_type": "code",
      "metadata": {
        "id": "6ChhTJyJsrfY",
        "colab_type": "code",
        "colab": {}
      },
      "source": [
        "y_pred = classifier.predict(X_test)"
      ],
      "execution_count": 0,
      "outputs": []
    },
    {
      "cell_type": "code",
      "metadata": {
        "id": "WyPydP4Jsrfa",
        "colab_type": "code",
        "colab": {},
        "outputId": "be3e34a3-31cb-41b7-f9d8-b3b47e169577"
      },
      "source": [
        "# Making the Confusion Matrix\n",
        "from sklearn.metrics import confusion_matrix\n",
        "cm = confusion_matrix(y_test, y_pred)\n",
        "print(cm)"
      ],
      "execution_count": 0,
      "outputs": [
        {
          "output_type": "stream",
          "text": [
            "[[2 0 0]\n",
            " [2 0 0]\n",
            " [0 0 1]]\n"
          ],
          "name": "stdout"
        }
      ]
    },
    {
      "cell_type": "code",
      "metadata": {
        "id": "ygab5NMasrfc",
        "colab_type": "code",
        "colab": {},
        "outputId": "3f3f2733-f324-4b75-d08d-af041ba1cddf"
      },
      "source": [
        "print('Test accuracy {:.2f}%'.format(classifier.score(X_test,y_test)*100))"
      ],
      "execution_count": 0,
      "outputs": [
        {
          "output_type": "stream",
          "text": [
            "Test accuracy 60.00%\n"
          ],
          "name": "stdout"
        }
      ]
    },
    {
      "cell_type": "markdown",
      "metadata": {
        "id": "AwFqRhRNsrfe",
        "colab_type": "text"
      },
      "source": [
        "That's better."
      ]
    },
    {
      "cell_type": "code",
      "metadata": {
        "id": "S8htocX2srfe",
        "colab_type": "code",
        "colab": {},
        "outputId": "023a8d69-b09f-4722-fc08-5de6e0f82d92"
      },
      "source": [
        "def plot_confusion_matrix(cm,\n",
        "                          target_names,\n",
        "                          title='Confusion matrix',\n",
        "                          cmap=None,\n",
        "                          normalize=True):\n",
        "    import matplotlib.pyplot as plt\n",
        "    import numpy as np\n",
        "    import itertools\n",
        "\n",
        "    accuracy = np.trace(cm) / float(np.sum(cm))\n",
        "    misclass = 1 - accuracy\n",
        "\n",
        "    if cmap is None:\n",
        "        cmap = plt.get_cmap('Blues')\n",
        "\n",
        "    plt.figure(figsize=(8, 6))\n",
        "    plt.imshow(cm, interpolation='nearest', cmap=cmap)\n",
        "    plt.title(title)\n",
        "    plt.colorbar()\n",
        "\n",
        "    if target_names is not None:\n",
        "        tick_marks = np.arange(len(target_names))\n",
        "        plt.xticks(tick_marks, target_names, rotation=45)\n",
        "        plt.yticks(tick_marks, target_names)\n",
        "\n",
        "    if normalize:\n",
        "        cm = cm.astype('float') / cm.sum(axis=1)[:, np.newaxis]\n",
        "\n",
        "\n",
        "    thresh = cm.max() / 1.5 if normalize else cm.max() / 2\n",
        "    for i, j in itertools.product(range(cm.shape[0]), range(cm.shape[1])):\n",
        "        if normalize:\n",
        "            plt.text(j, i, \"{:0.4f}\".format(cm[i, j]),\n",
        "                     horizontalalignment=\"center\",\n",
        "                     color=\"white\" if cm[i, j] > thresh else \"black\")\n",
        "        else:\n",
        "            plt.text(j, i, \"{:,}\".format(cm[i, j]),\n",
        "                     horizontalalignment=\"center\",\n",
        "                     color=\"white\" if cm[i, j] > thresh else \"black\")\n",
        "\n",
        "\n",
        "    plt.tight_layout()\n",
        "    plt.ylabel('True label')\n",
        "    plt.xlabel('Predicted label\\naccuracy={:0.4f}; misclass={:0.4f}'.format(accuracy, misclass))\n",
        "    plt.show()\n",
        "\n",
        "plot_confusion_matrix(cm = cm, normalize    = False, target_names = ['high', 'medium', 'low'],\n",
        "                      title= \"Confusion Matrix\")"
      ],
      "execution_count": 0,
      "outputs": [
        {
          "output_type": "display_data",
          "data": {
            "image/png": "[encoded data removed]",
            "text/plain": [
              "<Figure size 576x432 with 2 Axes>"
            ]
          },
          "metadata": {
            "tags": [],
            "needs_background": "light"
          }
        }
      ]
    },
    {
      "cell_type": "code",
      "metadata": {
        "id": "KAFg73iVsrfg",
        "colab_type": "code",
        "colab": {},
        "outputId": "4c16f58c-c712-442d-c5a1-95deb2e33658"
      },
      "source": [
        "from sklearn.neighbors import KNeighborsClassifier\n",
        "classifier = KNeighborsClassifier(n_neighbors=4,metric='minkowski',p=2)\n",
        "classifier.fit(X_train,y_train)"
      ],
      "execution_count": 0,
      "outputs": [
        {
          "output_type": "execute_result",
          "data": {
            "text/plain": [
              "KNeighborsClassifier(algorithm='auto', leaf_size=30, metric='minkowski',\n",
              "                     metric_params=None, n_jobs=None, n_neighbors=4, p=2,\n",
              "                     weights='uniform')"
            ]
          },
          "metadata": {
            "tags": []
          },
          "execution_count": 24
        }
      ]
    },
    {
      "cell_type": "code",
      "metadata": {
        "id": "jm-FTK8Ysrfj",
        "colab_type": "code",
        "colab": {}
      },
      "source": [
        "y_pred = classifier.predict(X_test)"
      ],
      "execution_count": 0,
      "outputs": []
    },
    {
      "cell_type": "code",
      "metadata": {
        "id": "Rxm8O9iHsrfl",
        "colab_type": "code",
        "colab": {},
        "outputId": "3615e2b0-d116-4414-f328-ec31db4e77c8"
      },
      "source": [
        "# Making the Confusion Matrix\n",
        "from sklearn.metrics import confusion_matrix\n",
        "cm = confusion_matrix(y_test, y_pred)\n",
        "print(cm)"
      ],
      "execution_count": 0,
      "outputs": [
        {
          "output_type": "stream",
          "text": [
            "[[1 1 0]\n",
            " [2 0 0]\n",
            " [0 1 0]]\n"
          ],
          "name": "stdout"
        }
      ]
    },
    {
      "cell_type": "code",
      "metadata": {
        "id": "07_8SuqTsrfo",
        "colab_type": "code",
        "colab": {},
        "outputId": "61b0c37b-16bd-4c0a-d2e8-0eb13b21b868"
      },
      "source": [
        "print('Test accuracy {:.2f}%'.format(classifier.score(X_test,y_test)*100))"
      ],
      "execution_count": 0,
      "outputs": [
        {
          "output_type": "stream",
          "text": [
            "Test accuracy 20.00%\n"
          ],
          "name": "stdout"
        }
      ]
    },
    {
      "cell_type": "markdown",
      "metadata": {
        "id": "3Q12nTfVsrfq",
        "colab_type": "text"
      },
      "source": [
        "Nope. 3 neighbors is the best. So, we got a accuracy of 60%, 3 out of 5. Not bad. Let's try the others. "
      ]
    },
    {
      "cell_type": "markdown",
      "metadata": {
        "id": "z9jkodrEsrfq",
        "colab_type": "text"
      },
      "source": [
        "## Analyzing Data using SVM"
      ]
    },
    {
      "cell_type": "markdown",
      "metadata": {
        "id": "1UadCrFhsrfq",
        "colab_type": "text"
      },
      "source": [
        "So, in SVM, we find the boundary line which has the maximum equidistant margin between the 2 closest points of the different classes."
      ]
    },
    {
      "cell_type": "code",
      "metadata": {
        "id": "kRMLbGlYsrfr",
        "colab_type": "code",
        "colab": {},
        "outputId": "dc0792db-fd82-4508-aa41-6de318e445f0"
      },
      "source": [
        "from sklearn.svm import SVC\n",
        "classifier = SVC(kernel='sigmoid',random_state=0)\n",
        "classifier.fit(X_train,y_train)"
      ],
      "execution_count": 0,
      "outputs": [
        {
          "output_type": "execute_result",
          "data": {
            "text/plain": [
              "SVC(C=1.0, break_ties=False, cache_size=200, class_weight=None, coef0=0.0,\n",
              "    decision_function_shape='ovr', degree=3, gamma='scale', kernel='sigmoid',\n",
              "    max_iter=-1, probability=False, random_state=0, shrinking=True, tol=0.001,\n",
              "    verbose=False)"
            ]
          },
          "metadata": {
            "tags": []
          },
          "execution_count": 28
        }
      ]
    },
    {
      "cell_type": "code",
      "metadata": {
        "id": "aWKrQB8Bsrft",
        "colab_type": "code",
        "colab": {}
      },
      "source": [
        "y_pred = classifier.predict(X_test)"
      ],
      "execution_count": 0,
      "outputs": []
    },
    {
      "cell_type": "code",
      "metadata": {
        "id": "ZVtLULHxsrfu",
        "colab_type": "code",
        "colab": {},
        "outputId": "9fa5fea9-d885-413c-c7f5-f8ab8c9a9bb9"
      },
      "source": [
        "from sklearn.metrics import confusion_matrix\n",
        "cm = confusion_matrix(y_test, y_pred)\n",
        "print(cm)"
      ],
      "execution_count": 0,
      "outputs": [
        {
          "output_type": "stream",
          "text": [
            "[[1 1 0]\n",
            " [1 1 0]\n",
            " [0 1 0]]\n"
          ],
          "name": "stdout"
        }
      ]
    },
    {
      "cell_type": "code",
      "metadata": {
        "id": "quAKwayDsrfx",
        "colab_type": "code",
        "colab": {},
        "outputId": "469aa7f8-6d21-4e7d-cf50-99178c5162c8"
      },
      "source": [
        "print('Test accuracy {:.2f}%'.format(classifier.score(X_test,y_test)*100))"
      ],
      "execution_count": 0,
      "outputs": [
        {
          "output_type": "stream",
          "text": [
            "Test accuracy 40.00%\n"
          ],
          "name": "stdout"
        }
      ]
    },
    {
      "cell_type": "markdown",
      "metadata": {
        "id": "3Dfp3_8_srfz",
        "colab_type": "text"
      },
      "source": [
        "Okay. let's try the others."
      ]
    },
    {
      "cell_type": "code",
      "metadata": {
        "id": "5KJSLlmSsrfz",
        "colab_type": "code",
        "colab": {},
        "outputId": "dd428363-4918-4bd3-c8bb-4b5fb2d90bc5"
      },
      "source": [
        "def plot_confusion_matrix(cm,\n",
        "                          target_names,\n",
        "                          title='Confusion matrix',\n",
        "                          cmap=None,\n",
        "                          normalize=True):\n",
        "    import matplotlib.pyplot as plt\n",
        "    import numpy as np\n",
        "    import itertools\n",
        "\n",
        "    accuracy = np.trace(cm) / float(np.sum(cm))\n",
        "    misclass = 1 - accuracy\n",
        "\n",
        "    if cmap is None:\n",
        "        cmap = plt.get_cmap('Blues')\n",
        "\n",
        "    plt.figure(figsize=(8, 6))\n",
        "    plt.imshow(cm, interpolation='nearest', cmap=cmap)\n",
        "    plt.title(title)\n",
        "    plt.colorbar()\n",
        "\n",
        "    if target_names is not None:\n",
        "        tick_marks = np.arange(len(target_names))\n",
        "        plt.xticks(tick_marks, target_names, rotation=45)\n",
        "        plt.yticks(tick_marks, target_names)\n",
        "\n",
        "    if normalize:\n",
        "        cm = cm.astype('float') / cm.sum(axis=1)[:, np.newaxis]\n",
        "\n",
        "\n",
        "    thresh = cm.max() / 1.5 if normalize else cm.max() / 2\n",
        "    for i, j in itertools.product(range(cm.shape[0]), range(cm.shape[1])):\n",
        "        if normalize:\n",
        "            plt.text(j, i, \"{:0.4f}\".format(cm[i, j]),\n",
        "                     horizontalalignment=\"center\",\n",
        "                     color=\"white\" if cm[i, j] > thresh else \"black\")\n",
        "        else:\n",
        "            plt.text(j, i, \"{:,}\".format(cm[i, j]),\n",
        "                     horizontalalignment=\"center\",\n",
        "                     color=\"white\" if cm[i, j] > thresh else \"black\")\n",
        "\n",
        "\n",
        "    plt.tight_layout()\n",
        "    plt.ylabel('True label')\n",
        "    plt.xlabel('Predicted label\\naccuracy={:0.4f}; misclass={:0.4f}'.format(accuracy, misclass))\n",
        "    plt.show()\n",
        "\n",
        "plot_confusion_matrix(cm = cm, normalize    = False, target_names = ['high', 'medium', 'low'],\n",
        "                      title= \"Confusion Matrix\")"
      ],
      "execution_count": 0,
      "outputs": [
        {
          "output_type": "display_data",
          "data": {
            "image/png": "[encoded data removed]",
            "text/plain": [
              "<Figure size 576x432 with 2 Axes>"
            ]
          },
          "metadata": {
            "tags": [],
            "needs_background": "light"
          }
        }
      ]
    },
    {
      "cell_type": "markdown",
      "metadata": {
        "id": "GRosykOlsrf2",
        "colab_type": "text"
      },
      "source": [
        "## Analyzing Data using Kernel SVM"
      ]
    },
    {
      "cell_type": "markdown",
      "metadata": {
        "id": "UIEU34AFsrf2",
        "colab_type": "text"
      },
      "source": [
        "Kernel SVM can handle non-linearity in data unlike SVM."
      ]
    },
    {
      "cell_type": "code",
      "metadata": {
        "id": "_pOz37_Psrf2",
        "colab_type": "code",
        "colab": {},
        "outputId": "3e63c3bd-7f0e-413b-c74c-6e7ebeb19ff9"
      },
      "source": [
        "from sklearn.svm import SVC\n",
        "classifier = SVC(kernel = 'linear', C = 3, verbose = 1).fit(X_train, y_train) \n",
        "classifier.fit(X_train,y_train)"
      ],
      "execution_count": 0,
      "outputs": [
        {
          "output_type": "stream",
          "text": [
            "[LibSVM][LibSVM]"
          ],
          "name": "stdout"
        },
        {
          "output_type": "execute_result",
          "data": {
            "text/plain": [
              "SVC(C=3, break_ties=False, cache_size=200, class_weight=None, coef0=0.0,\n",
              "    decision_function_shape='ovr', degree=3, gamma='scale', kernel='linear',\n",
              "    max_iter=-1, probability=False, random_state=None, shrinking=True,\n",
              "    tol=0.001, verbose=1)"
            ]
          },
          "metadata": {
            "tags": []
          },
          "execution_count": 33
        }
      ]
    },
    {
      "cell_type": "code",
      "metadata": {
        "id": "kJTRVS-Gsrf6",
        "colab_type": "code",
        "colab": {}
      },
      "source": [
        "y_pred = classifier.predict(X_test)"
      ],
      "execution_count": 0,
      "outputs": []
    },
    {
      "cell_type": "code",
      "metadata": {
        "id": "gKNenEVPsrf8",
        "colab_type": "code",
        "colab": {},
        "outputId": "7172f5f4-c518-4fa6-ef80-113ddec747e1"
      },
      "source": [
        "from sklearn.metrics import confusion_matrix\n",
        "cm = confusion_matrix(y_test, y_pred)\n",
        "print(cm)"
      ],
      "execution_count": 0,
      "outputs": [
        {
          "output_type": "stream",
          "text": [
            "[[1 1 0]\n",
            " [0 2 0]\n",
            " [0 0 1]]\n"
          ],
          "name": "stdout"
        }
      ]
    },
    {
      "cell_type": "code",
      "metadata": {
        "id": "Cgkx9zeisrf-",
        "colab_type": "code",
        "colab": {},
        "outputId": "b7bc097e-bf9c-4bc0-8e6f-c0728fcac276"
      },
      "source": [
        "print('Test accuracy {:.2f}%'.format(classifier.score(X_test,y_test)*100))"
      ],
      "execution_count": 0,
      "outputs": [
        {
          "output_type": "stream",
          "text": [
            "Test accuracy 80.00%\n"
          ],
          "name": "stdout"
        }
      ]
    },
    {
      "cell_type": "markdown",
      "metadata": {
        "id": "ARcXMYIMsrgB",
        "colab_type": "text"
      },
      "source": [
        "That's more like it. Moving on to Naive Bayes."
      ]
    },
    {
      "cell_type": "code",
      "metadata": {
        "id": "7zC_WMkTsrgB",
        "colab_type": "code",
        "colab": {},
        "outputId": "3d2c12c8-d58a-4136-896e-f01c6eeef713"
      },
      "source": [
        "def plot_confusion_matrix(cm,\n",
        "                          target_names,\n",
        "                          title='Confusion matrix',\n",
        "                          cmap=None,\n",
        "                          normalize=True):\n",
        "    import matplotlib.pyplot as plt\n",
        "    import numpy as np\n",
        "    import itertools\n",
        "\n",
        "    accuracy = np.trace(cm) / float(np.sum(cm))\n",
        "    misclass = 1 - accuracy\n",
        "\n",
        "    if cmap is None:\n",
        "        cmap = plt.get_cmap('Blues')\n",
        "\n",
        "    plt.figure(figsize=(8, 6))\n",
        "    plt.imshow(cm, interpolation='nearest', cmap=cmap)\n",
        "    plt.title(title)\n",
        "    plt.colorbar()\n",
        "\n",
        "    if target_names is not None:\n",
        "        tick_marks = np.arange(len(target_names))\n",
        "        plt.xticks(tick_marks, target_names, rotation=45)\n",
        "        plt.yticks(tick_marks, target_names)\n",
        "\n",
        "    if normalize:\n",
        "        cm = cm.astype('float') / cm.sum(axis=1)[:, np.newaxis]\n",
        "\n",
        "\n",
        "    thresh = cm.max() / 1.5 if normalize else cm.max() / 2\n",
        "    for i, j in itertools.product(range(cm.shape[0]), range(cm.shape[1])):\n",
        "        if normalize:\n",
        "            plt.text(j, i, \"{:0.4f}\".format(cm[i, j]),\n",
        "                     horizontalalignment=\"center\",\n",
        "                     color=\"white\" if cm[i, j] > thresh else \"black\")\n",
        "        else:\n",
        "            plt.text(j, i, \"{:,}\".format(cm[i, j]),\n",
        "                     horizontalalignment=\"center\",\n",
        "                     color=\"white\" if cm[i, j] > thresh else \"black\")\n",
        "\n",
        "\n",
        "    plt.tight_layout()\n",
        "    plt.ylabel('True label')\n",
        "    plt.xlabel('Predicted label\\naccuracy={:0.4f}; misclass={:0.4f}'.format(accuracy, misclass))\n",
        "    plt.show()\n",
        "\n",
        "plot_confusion_matrix(cm = cm, normalize    = False, target_names = ['high', 'medium', 'low'],\n",
        "                      title= \"Confusion Matrix\")"
      ],
      "execution_count": 0,
      "outputs": [
        {
          "output_type": "display_data",
          "data": {
            "image/png": "[encoded data removed]",
            "text/plain": [
              "<Figure size 576x432 with 2 Axes>"
            ]
          },
          "metadata": {
            "tags": [],
            "needs_background": "light"
          }
        }
      ]
    },
    {
      "cell_type": "markdown",
      "metadata": {
        "id": "a97RcjRpsrgF",
        "colab_type": "text"
      },
      "source": [
        "##  Analyzing Data using Naive Bayes"
      ]
    },
    {
      "cell_type": "markdown",
      "metadata": {
        "id": "TszQ8BJJsrgF",
        "colab_type": "text"
      },
      "source": [
        "A Naive Bayes classifier is a probabilistic machine learning model that’s used for classification task. The crux of the classifier is based on the Bayes theorem."
      ]
    },
    {
      "cell_type": "code",
      "metadata": {
        "id": "Kki1FoEjsrgG",
        "colab_type": "code",
        "colab": {},
        "outputId": "d8691bda-a62e-4976-dc20-8fe449096d4a"
      },
      "source": [
        "from sklearn.naive_bayes import GaussianNB\n",
        "classifier = GaussianNB()\n",
        "classifier.fit(X_train,y_train)"
      ],
      "execution_count": 0,
      "outputs": [
        {
          "output_type": "execute_result",
          "data": {
            "text/plain": [
              "GaussianNB(priors=None, var_smoothing=1e-09)"
            ]
          },
          "metadata": {
            "tags": []
          },
          "execution_count": 38
        }
      ]
    },
    {
      "cell_type": "code",
      "metadata": {
        "id": "QvFABeQrsrgI",
        "colab_type": "code",
        "colab": {}
      },
      "source": [
        "y_pred = classifier.predict(X_test)"
      ],
      "execution_count": 0,
      "outputs": []
    },
    {
      "cell_type": "code",
      "metadata": {
        "id": "tDguwFHBsrgK",
        "colab_type": "code",
        "colab": {},
        "outputId": "c0978754-d2f0-4e4e-9b35-ccaea671c81c"
      },
      "source": [
        "from sklearn.metrics import confusion_matrix\n",
        "cm = confusion_matrix(y_test, y_pred)\n",
        "print(cm)"
      ],
      "execution_count": 0,
      "outputs": [
        {
          "output_type": "stream",
          "text": [
            "[[1 1 0]\n",
            " [0 2 0]\n",
            " [0 1 0]]\n"
          ],
          "name": "stdout"
        }
      ]
    },
    {
      "cell_type": "code",
      "metadata": {
        "id": "vn5PsJjdsrgM",
        "colab_type": "code",
        "colab": {},
        "outputId": "95e98908-1b3d-4ff1-e5ae-a58d600d977d"
      },
      "source": [
        "print('Test accuracy {:.2f}%'.format(classifier.score(X_test,y_test)*100))"
      ],
      "execution_count": 0,
      "outputs": [
        {
          "output_type": "stream",
          "text": [
            "Test accuracy 60.00%\n"
          ],
          "name": "stdout"
        }
      ]
    },
    {
      "cell_type": "markdown",
      "metadata": {
        "id": "gfXIt2odsrgO",
        "colab_type": "text"
      },
      "source": [
        "Not bad. It doesn't have any parameters. So, moving on."
      ]
    },
    {
      "cell_type": "code",
      "metadata": {
        "id": "JF3bXDnssrgO",
        "colab_type": "code",
        "colab": {},
        "outputId": "a58c6228-245b-4206-bbc5-aa0c6bb2ffeb"
      },
      "source": [
        "def plot_confusion_matrix(cm,\n",
        "                          target_names,\n",
        "                          title='Confusion matrix',\n",
        "                          cmap=None,\n",
        "                          normalize=True):\n",
        "    import matplotlib.pyplot as plt\n",
        "    import numpy as np\n",
        "    import itertools\n",
        "\n",
        "    accuracy = np.trace(cm) / float(np.sum(cm))\n",
        "    misclass = 1 - accuracy\n",
        "\n",
        "    if cmap is None:\n",
        "        cmap = plt.get_cmap('Blues')\n",
        "\n",
        "    plt.figure(figsize=(8, 6))\n",
        "    plt.imshow(cm, interpolation='nearest', cmap=cmap)\n",
        "    plt.title(title)\n",
        "    plt.colorbar()\n",
        "\n",
        "    if target_names is not None:\n",
        "        tick_marks = np.arange(len(target_names))\n",
        "        plt.xticks(tick_marks, target_names, rotation=45)\n",
        "        plt.yticks(tick_marks, target_names)\n",
        "\n",
        "    if normalize:\n",
        "        cm = cm.astype('float') / cm.sum(axis=1)[:, np.newaxis]\n",
        "\n",
        "\n",
        "    thresh = cm.max() / 1.5 if normalize else cm.max() / 2\n",
        "    for i, j in itertools.product(range(cm.shape[0]), range(cm.shape[1])):\n",
        "        if normalize:\n",
        "            plt.text(j, i, \"{:0.4f}\".format(cm[i, j]),\n",
        "                     horizontalalignment=\"center\",\n",
        "                     color=\"white\" if cm[i, j] > thresh else \"black\")\n",
        "        else:\n",
        "            plt.text(j, i, \"{:,}\".format(cm[i, j]),\n",
        "                     horizontalalignment=\"center\",\n",
        "                     color=\"white\" if cm[i, j] > thresh else \"black\")\n",
        "\n",
        "\n",
        "    plt.tight_layout()\n",
        "    plt.ylabel('True label')\n",
        "    plt.xlabel('Predicted label\\naccuracy={:0.4f}; misclass={:0.4f}'.format(accuracy, misclass))\n",
        "    plt.show()\n",
        "\n",
        "plot_confusion_matrix(cm = cm, normalize    = False, target_names = ['high', 'medium', 'low'],\n",
        "                      title= \"Confusion Matrix\")"
      ],
      "execution_count": 0,
      "outputs": [
        {
          "output_type": "display_data",
          "data": {
            "image/png": "[encoded data removed]",
            "text/plain": [
              "<Figure size 576x432 with 2 Axes>"
            ]
          },
          "metadata": {
            "tags": [],
            "needs_background": "light"
          }
        }
      ]
    },
    {
      "cell_type": "markdown",
      "metadata": {
        "id": "SbxyZOPVsrgR",
        "colab_type": "text"
      },
      "source": [
        "## Analyzing Data using Decision Tree "
      ]
    },
    {
      "cell_type": "code",
      "metadata": {
        "id": "fBlr3_wAsrgS",
        "colab_type": "code",
        "colab": {},
        "outputId": "6cede95c-0906-4081-8f81-9a4c220520a6"
      },
      "source": [
        "# Fitting classifier to the Training set\n",
        "from sklearn.tree import DecisionTreeClassifier\n",
        "classifier = DecisionTreeClassifier(criterion='entropy',\n",
        "                                    random_state=0)\n",
        "classifier.fit(X_train,y_train)"
      ],
      "execution_count": 0,
      "outputs": [
        {
          "output_type": "execute_result",
          "data": {
            "text/plain": [
              "DecisionTreeClassifier(ccp_alpha=0.0, class_weight=None, criterion='entropy',\n",
              "                       max_depth=None, max_features=None, max_leaf_nodes=None,\n",
              "                       min_impurity_decrease=0.0, min_impurity_split=None,\n",
              "                       min_samples_leaf=1, min_samples_split=2,\n",
              "                       min_weight_fraction_leaf=0.0, presort='deprecated',\n",
              "                       random_state=0, splitter='best')"
            ]
          },
          "metadata": {
            "tags": []
          },
          "execution_count": 43
        }
      ]
    },
    {
      "cell_type": "code",
      "metadata": {
        "id": "Q_PUkdGWsrgU",
        "colab_type": "code",
        "colab": {}
      },
      "source": [
        "y_pred = classifier.predict(X_test)"
      ],
      "execution_count": 0,
      "outputs": []
    },
    {
      "cell_type": "code",
      "metadata": {
        "id": "1Wjx-0mGsrgW",
        "colab_type": "code",
        "colab": {},
        "outputId": "20a71fc4-12b0-4c9d-f6e5-2ecd826b58d4"
      },
      "source": [
        "from sklearn.metrics import confusion_matrix\n",
        "cm = confusion_matrix(y_test, y_pred)\n",
        "print(cm)"
      ],
      "execution_count": 0,
      "outputs": [
        {
          "output_type": "stream",
          "text": [
            "[[0 2 0]\n",
            " [1 1 0]\n",
            " [0 0 1]]\n"
          ],
          "name": "stdout"
        }
      ]
    },
    {
      "cell_type": "code",
      "metadata": {
        "id": "EBuSiDETsrgZ",
        "colab_type": "code",
        "colab": {},
        "outputId": "12790130-93f9-48f6-bd79-ccbe0ff026d6"
      },
      "source": [
        "print('Test accuracy {:.2f}%'.format(classifier.score(X_test,y_test)*100))"
      ],
      "execution_count": 0,
      "outputs": [
        {
          "output_type": "stream",
          "text": [
            "Test accuracy 40.00%\n"
          ],
          "name": "stdout"
        }
      ]
    },
    {
      "cell_type": "markdown",
      "metadata": {
        "id": "mz86yV37srga",
        "colab_type": "text"
      },
      "source": [
        "The problem with Decision Tree and Random Forest Classification is that they overfit the training set. They try to capture the points that lie among the opposite target points. Let's try better parameters."
      ]
    },
    {
      "cell_type": "code",
      "metadata": {
        "id": "SySPBQQGsrgb",
        "colab_type": "code",
        "colab": {},
        "outputId": "aee8a300-bcb1-4a27-fa4d-ec00bf5c1703"
      },
      "source": [
        "# Fitting classifier to the Training set , Try 2\n",
        "from sklearn.tree import DecisionTreeClassifier\n",
        "classifier = DecisionTreeClassifier(criterion='entropy', max_leaf_nodes= 4, max_depth= 7, min_samples_leaf=2, \n",
        "                                    random_state=0)\n",
        "classifier.fit(X_train,y_train)"
      ],
      "execution_count": 0,
      "outputs": [
        {
          "output_type": "execute_result",
          "data": {
            "text/plain": [
              "DecisionTreeClassifier(ccp_alpha=0.0, class_weight=None, criterion='entropy',\n",
              "                       max_depth=7, max_features=None, max_leaf_nodes=4,\n",
              "                       min_impurity_decrease=0.0, min_impurity_split=None,\n",
              "                       min_samples_leaf=2, min_samples_split=2,\n",
              "                       min_weight_fraction_leaf=0.0, presort='deprecated',\n",
              "                       random_state=0, splitter='best')"
            ]
          },
          "metadata": {
            "tags": []
          },
          "execution_count": 47
        }
      ]
    },
    {
      "cell_type": "code",
      "metadata": {
        "id": "On1Jefrzsrgc",
        "colab_type": "code",
        "colab": {}
      },
      "source": [
        "y_pred = classifier.predict(X_test)"
      ],
      "execution_count": 0,
      "outputs": []
    },
    {
      "cell_type": "code",
      "metadata": {
        "id": "fDS1mW9jsrge",
        "colab_type": "code",
        "colab": {},
        "outputId": "c70a76a2-96f2-4cc0-c76b-e85db309c37d"
      },
      "source": [
        "from sklearn.metrics import confusion_matrix\n",
        "cm = confusion_matrix(y_test, y_pred)\n",
        "print(cm)"
      ],
      "execution_count": 0,
      "outputs": [
        {
          "output_type": "stream",
          "text": [
            "[[0 2 0]\n",
            " [1 1 0]\n",
            " [0 0 1]]\n"
          ],
          "name": "stdout"
        }
      ]
    },
    {
      "cell_type": "code",
      "metadata": {
        "id": "iLlitYKRsrgg",
        "colab_type": "code",
        "colab": {},
        "outputId": "ab625813-d0f3-463c-8cda-2520214a5d96"
      },
      "source": [
        "print('Test accuracy {:.2f}%'.format(classifier.score(X_test,y_test)*100))"
      ],
      "execution_count": 0,
      "outputs": [
        {
          "output_type": "stream",
          "text": [
            "Test accuracy 40.00%\n"
          ],
          "name": "stdout"
        }
      ]
    },
    {
      "cell_type": "markdown",
      "metadata": {
        "id": "d3xiyv3fsrgk",
        "colab_type": "text"
      },
      "source": [
        "Nope. Not getting good. Need to explore more about this one I guess."
      ]
    },
    {
      "cell_type": "code",
      "metadata": {
        "id": "Wt9uPDvysrgl",
        "colab_type": "code",
        "colab": {},
        "outputId": "4baa3b12-992b-420f-9835-4a0c1e20e54d"
      },
      "source": [
        "def plot_confusion_matrix(cm,\n",
        "                          target_names,\n",
        "                          title='Confusion matrix',\n",
        "                          cmap=None,\n",
        "                          normalize=True):\n",
        "    import matplotlib.pyplot as plt\n",
        "    import numpy as np\n",
        "    import itertools\n",
        "\n",
        "    accuracy = np.trace(cm) / float(np.sum(cm))\n",
        "    misclass = 1 - accuracy\n",
        "\n",
        "    if cmap is None:\n",
        "        cmap = plt.get_cmap('Blues')\n",
        "\n",
        "    plt.figure(figsize=(8, 6))\n",
        "    plt.imshow(cm, interpolation='nearest', cmap=cmap)\n",
        "    plt.title(title)\n",
        "    plt.colorbar()\n",
        "\n",
        "    if target_names is not None:\n",
        "        tick_marks = np.arange(len(target_names))\n",
        "        plt.xticks(tick_marks, target_names, rotation=45)\n",
        "        plt.yticks(tick_marks, target_names)\n",
        "\n",
        "    if normalize:\n",
        "        cm = cm.astype('float') / cm.sum(axis=1)[:, np.newaxis]\n",
        "\n",
        "\n",
        "    thresh = cm.max() / 1.5 if normalize else cm.max() / 2\n",
        "    for i, j in itertools.product(range(cm.shape[0]), range(cm.shape[1])):\n",
        "        if normalize:\n",
        "            plt.text(j, i, \"{:0.4f}\".format(cm[i, j]),\n",
        "                     horizontalalignment=\"center\",\n",
        "                     color=\"white\" if cm[i, j] > thresh else \"black\")\n",
        "        else:\n",
        "            plt.text(j, i, \"{:,}\".format(cm[i, j]),\n",
        "                     horizontalalignment=\"center\",\n",
        "                     color=\"white\" if cm[i, j] > thresh else \"black\")\n",
        "\n",
        "\n",
        "    plt.tight_layout()\n",
        "    plt.ylabel('True label')\n",
        "    plt.xlabel('Predicted label\\naccuracy={:0.4f}; misclass={:0.4f}'.format(accuracy, misclass))\n",
        "    plt.show()\n",
        "\n",
        "plot_confusion_matrix(cm = cm, normalize    = False, target_names = ['high', 'medium', 'low'],\n",
        "                      title= \"Confusion Matrix\")"
      ],
      "execution_count": 0,
      "outputs": [
        {
          "output_type": "display_data",
          "data": {
            "image/png": "[encoded data removed]",
            "text/plain": [
              "<Figure size 576x432 with 2 Axes>"
            ]
          },
          "metadata": {
            "tags": [],
            "needs_background": "light"
          }
        }
      ]
    },
    {
      "cell_type": "markdown",
      "metadata": {
        "id": "-A4E6YEUsrgn",
        "colab_type": "text"
      },
      "source": [
        "## Analyzing Data using Random Forest"
      ]
    },
    {
      "cell_type": "code",
      "metadata": {
        "id": "nvusXc6Bsrgn",
        "colab_type": "code",
        "colab": {},
        "outputId": "0d7307c3-6dc5-445c-d1e5-22912cc34030"
      },
      "source": [
        "# Fitting classifier to the Training set\n",
        "from sklearn.ensemble import RandomForestClassifier\n",
        "classifier = RandomForestClassifier(n_estimators=1,criterion='entropy',max_depth=4,random_state=0)\n",
        "classifier.fit(X_train,y_train)"
      ],
      "execution_count": 0,
      "outputs": [
        {
          "output_type": "execute_result",
          "data": {
            "text/plain": [
              "RandomForestClassifier(bootstrap=True, ccp_alpha=0.0, class_weight=None,\n",
              "                       criterion='entropy', max_depth=4, max_features='auto',\n",
              "                       max_leaf_nodes=None, max_samples=None,\n",
              "                       min_impurity_decrease=0.0, min_impurity_split=None,\n",
              "                       min_samples_leaf=1, min_samples_split=2,\n",
              "                       min_weight_fraction_leaf=0.0, n_estimators=1,\n",
              "                       n_jobs=None, oob_score=False, random_state=0, verbose=0,\n",
              "                       warm_start=False)"
            ]
          },
          "metadata": {
            "tags": []
          },
          "execution_count": 52
        }
      ]
    },
    {
      "cell_type": "code",
      "metadata": {
        "id": "FCqOg0uEsrgq",
        "colab_type": "code",
        "colab": {}
      },
      "source": [
        "y_pred = classifier.predict(X_test)"
      ],
      "execution_count": 0,
      "outputs": []
    },
    {
      "cell_type": "code",
      "metadata": {
        "id": "I_ROuWlGsrgt",
        "colab_type": "code",
        "colab": {},
        "outputId": "1e20501d-470c-4bd5-8df6-f5216cbaaecf"
      },
      "source": [
        "from sklearn.metrics import confusion_matrix\n",
        "cm = confusion_matrix(y_test, y_pred)\n",
        "print(cm)"
      ],
      "execution_count": 0,
      "outputs": [
        {
          "output_type": "stream",
          "text": [
            "[[1 1 0]\n",
            " [2 0 0]\n",
            " [0 1 0]]\n"
          ],
          "name": "stdout"
        }
      ]
    },
    {
      "cell_type": "code",
      "metadata": {
        "id": "GAAi0wr4srgv",
        "colab_type": "code",
        "colab": {},
        "outputId": "3c4377d1-75d1-4ed0-ebab-2cb472da927a"
      },
      "source": [
        "print('Test accuracy {:.2f}%'.format(classifier.score(X_test,y_test)*100))"
      ],
      "execution_count": 0,
      "outputs": [
        {
          "output_type": "stream",
          "text": [
            "Test accuracy 20.00%\n"
          ],
          "name": "stdout"
        }
      ]
    },
    {
      "cell_type": "markdown",
      "metadata": {
        "id": "6hwqwD-wsrgw",
        "colab_type": "text"
      },
      "source": [
        "Nope, Not working good."
      ]
    },
    {
      "cell_type": "code",
      "metadata": {
        "id": "XStr474msrgx",
        "colab_type": "code",
        "colab": {},
        "outputId": "50678735-f5cf-48e2-f74d-8b6b590f09da"
      },
      "source": [
        "print('Test accuracy {:.2f}%'.format(classifier.score(X_train,y_train)*100))"
      ],
      "execution_count": 0,
      "outputs": [
        {
          "output_type": "stream",
          "text": [
            "Test accuracy 88.89%\n"
          ],
          "name": "stdout"
        }
      ]
    },
    {
      "cell_type": "markdown",
      "metadata": {
        "id": "j_QeRnKVsrgy",
        "colab_type": "text"
      },
      "source": [
        "Similiar to decision tree. Keeps overfitting."
      ]
    },
    {
      "cell_type": "code",
      "metadata": {
        "id": "aDJeGXvmsrgz",
        "colab_type": "code",
        "colab": {},
        "outputId": "d9d604f1-8b62-4f7b-cc23-453eff4d7a38"
      },
      "source": [
        "def plot_confusion_matrix(cm,\n",
        "                          target_names,\n",
        "                          title='Confusion matrix',\n",
        "                          cmap=None,\n",
        "                          normalize=True):\n",
        "    import matplotlib.pyplot as plt\n",
        "    import numpy as np\n",
        "    import itertools\n",
        "\n",
        "    accuracy = np.trace(cm) / float(np.sum(cm))\n",
        "    misclass = 1 - accuracy\n",
        "\n",
        "    if cmap is None:\n",
        "        cmap = plt.get_cmap('Blues')\n",
        "\n",
        "    plt.figure(figsize=(8, 6))\n",
        "    plt.imshow(cm, interpolation='nearest', cmap=cmap)\n",
        "    plt.title(title)\n",
        "    plt.colorbar()\n",
        "\n",
        "    if target_names is not None:\n",
        "        tick_marks = np.arange(len(target_names))\n",
        "        plt.xticks(tick_marks, target_names, rotation=45)\n",
        "        plt.yticks(tick_marks, target_names)\n",
        "\n",
        "    if normalize:\n",
        "        cm = cm.astype('float') / cm.sum(axis=1)[:, np.newaxis]\n",
        "\n",
        "\n",
        "    thresh = cm.max() / 1.5 if normalize else cm.max() / 2\n",
        "    for i, j in itertools.product(range(cm.shape[0]), range(cm.shape[1])):\n",
        "        if normalize:\n",
        "            plt.text(j, i, \"{:0.4f}\".format(cm[i, j]),\n",
        "                     horizontalalignment=\"center\",\n",
        "                     color=\"white\" if cm[i, j] > thresh else \"black\")\n",
        "        else:\n",
        "            plt.text(j, i, \"{:,}\".format(cm[i, j]),\n",
        "                     horizontalalignment=\"center\",\n",
        "                     color=\"white\" if cm[i, j] > thresh else \"black\")\n",
        "\n",
        "\n",
        "    plt.tight_layout()\n",
        "    plt.ylabel('True label')\n",
        "    plt.xlabel('Predicted label\\naccuracy={:0.4f}; misclass={:0.4f}'.format(accuracy, misclass))\n",
        "    plt.show()\n",
        "\n",
        "plot_confusion_matrix(cm = cm, normalize    = False, target_names = ['high', 'medium', 'low'],\n",
        "                      title= \"Confusion Matrix\")"
      ],
      "execution_count": 0,
      "outputs": [
        {
          "output_type": "display_data",
          "data": {
            "image/png": "[encoded data removed]",
            "text/plain": [
              "<Figure size 576x432 with 2 Axes>"
            ]
          },
          "metadata": {
            "tags": [],
            "needs_background": "light"
          }
        }
      ]
    },
    {
      "cell_type": "markdown",
      "metadata": {
        "id": "JXFCvZO4srg4",
        "colab_type": "text"
      },
      "source": [
        "So, the best model that fitted the dataset and predicted correct values was Logistic Regression and Kernel SVM, with a good 80% performance shown by the models on the data. "
      ]
    },
    {
      "cell_type": "markdown",
      "metadata": {
        "id": "PxkJlfEhsrg5",
        "colab_type": "text"
      },
      "source": [
        "So, That marks the end of the notebook and the end of this project. It was a good problem statement, I worked 4 days straight on it and enjoyed a lot as well. And I hope this assignment solution fits the problem statement and the criteria of qualification as well. Thank you for giving me the opportunity. It was a good learning experience.\n",
        "\n",
        "Looking forward to your response.\n",
        "\n",
        "Regards\n",
        "\n",
        "Devansh Kaushik"
      ]
    }
  ]
}